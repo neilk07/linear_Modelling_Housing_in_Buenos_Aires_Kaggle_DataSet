{
  "metadata": {
    "kernelspec": {
      "language": "python",
      "display_name": "Python 3",
      "name": "python3"
    },
    "language_info": {
      "pygments_lexer": "ipython3",
      "nbconvert_exporter": "python",
      "version": "3.6.4",
      "file_extension": ".py",
      "codemirror_mode": {
        "name": "ipython",
        "version": 3
      },
      "name": "python",
      "mimetype": "text/x-python"
    },
    "colab": {
      "provenance": []
    }
  },
  "nbformat_minor": 0,
  "nbformat": 4,
  "cells": [
    {
      "cell_type": "markdown",
      "source": [
        "# Housing in Buenos Aires\n"
      ],
      "metadata": {
        "id": "pRJn8WATWsPL"
      }
    },
    {
      "cell_type": "markdown",
      "source": [
        "In this project, we are working for a client who wants to create a model that can predict the price of apartments in the city of Buenos Aires — with a focus on apartments that cost less than $400,000 USD. We have a collection of dataset contains the real estate data of **Buenos Aires**"
      ],
      "metadata": {
        "id": "H9CCs4fxWsPV"
      }
    },
    {
      "cell_type": "markdown",
      "source": [
        "## Importing modules"
      ],
      "metadata": {
        "id": "K98iF96sWsPY"
      }
    },
    {
      "cell_type": "code",
      "source": [
        "import matplotlib.pyplot as plt\n",
        "import pandas as pd\n",
        "from glob import glob\n",
        "from sklearn.linear_model import LinearRegression\n",
        "from sklearn.model_selection import train_test_split\n",
        "from sklearn.metrics import mean_absolute_error\n",
        "from sklearn.impute import SimpleImputer"
      ],
      "metadata": {
        "execution": {
          "iopub.status.busy": "2022-08-22T06:01:42.878562Z",
          "iopub.execute_input": "2022-08-22T06:01:42.878998Z",
          "iopub.status.idle": "2022-08-22T06:01:42.884504Z",
          "shell.execute_reply.started": "2022-08-22T06:01:42.878962Z",
          "shell.execute_reply": "2022-08-22T06:01:42.883526Z"
        },
        "trusted": true,
        "id": "Q7W5vLzSWsPa"
      },
      "execution_count": null,
      "outputs": []
    },
    {
      "cell_type": "markdown",
      "source": [
        "## Creating a wrangle function to read the all datasets and clean it"
      ],
      "metadata": {
        "id": "14I31Kt1WsPe"
      }
    },
    {
      "cell_type": "code",
      "source": [
        "def wrangle(filepath):\n",
        "    # Read csv file to df\n",
        "    df = pd.read_csv(filepath)\n",
        "\n",
        "    return df"
      ],
      "metadata": {
        "execution": {
          "iopub.status.busy": "2022-08-22T04:58:48.132945Z",
          "iopub.execute_input": "2022-08-22T04:58:48.133344Z",
          "iopub.status.idle": "2022-08-22T04:58:48.13897Z",
          "shell.execute_reply.started": "2022-08-22T04:58:48.133312Z",
          "shell.execute_reply": "2022-08-22T04:58:48.138032Z"
        },
        "trusted": true,
        "id": "xqM5EM93WsPf"
      },
      "execution_count": null,
      "outputs": []
    },
    {
      "cell_type": "code",
      "source": [
        "df = wrangle(\"/content/buenos-aires-real-estate-1.csv\")\n",
        "print(\"df shape:\", df.shape)\n",
        "df.head()"
      ],
      "metadata": {
        "execution": {
          "iopub.status.busy": "2022-08-22T04:58:48.966704Z",
          "iopub.execute_input": "2022-08-22T04:58:48.967307Z",
          "iopub.status.idle": "2022-08-22T04:58:49.036035Z",
          "shell.execute_reply.started": "2022-08-22T04:58:48.967272Z",
          "shell.execute_reply": "2022-08-22T04:58:49.034654Z"
        },
        "trusted": true,
        "id": "42ykCpryWsPh",
        "outputId": "37a1864d-d171-4e50-c4ee-55d37d9c2274",
        "colab": {
          "base_uri": "https://localhost:8080/",
          "height": 331
        }
      },
      "execution_count": null,
      "outputs": [
        {
          "output_type": "stream",
          "name": "stdout",
          "text": [
            "df shape: (8606, 16)\n"
          ]
        },
        {
          "output_type": "execute_result",
          "data": {
            "text/plain": [
              "  operation property_type                            place_with_parent_names  \\\n",
              "0      sell     apartment           |Argentina|Capital Federal|Villa Crespo|   \n",
              "1      sell         house  |Argentina|Bs.As. G.B.A. Zona Oeste|La Matanza...   \n",
              "2      sell         house  |Argentina|Bs.As. G.B.A. Zona Oeste|Morón|Cast...   \n",
              "3      sell         house  |Argentina|Bs.As. G.B.A. Zona Oeste|Tres de Fe...   \n",
              "4      sell     apartment              |Argentina|Capital Federal|Chacarita|   \n",
              "\n",
              "                         lat-lon     price currency  \\\n",
              "0  -34.6047834183,-58.4586812499  180000.0      USD   \n",
              "1                            NaN  250000.0      USD   \n",
              "2         -34.6497002,-58.658073  410000.0      USD   \n",
              "3        -34.5957086,-58.5669503  180000.0      USD   \n",
              "4  -34.5846508988,-58.4546932614  129000.0      USD   \n",
              "\n",
              "   price_aprox_local_currency  price_aprox_usd  surface_total_in_m2  \\\n",
              "0                   2729232.0         180000.0                120.0   \n",
              "1                   3790600.0         250000.0                117.0   \n",
              "2                   6216584.0         410000.0                410.0   \n",
              "3                   2729232.0         180000.0                200.0   \n",
              "4                   1955949.6         129000.0                 76.0   \n",
              "\n",
              "   surface_covered_in_m2  price_usd_per_m2  price_per_m2  floor  rooms  \\\n",
              "0                  110.0       1500.000000   1636.363636    NaN    4.0   \n",
              "1                  120.0       2136.752137   2083.333333    NaN    4.0   \n",
              "2                  220.0       1000.000000   1863.636364    NaN    NaN   \n",
              "3                  135.0        900.000000   1333.333333    NaN    5.0   \n",
              "4                   70.0       1697.368421   1842.857143    NaN    NaN   \n",
              "\n",
              "   expenses                                      properati_url  \n",
              "0       NaN  http://villa-crespo.properati.com.ar/12egq_ven...  \n",
              "1       NaN  http://ramos-mejia.properati.com.ar/s7pd_venta...  \n",
              "2       NaN  http://castelar-moron.properati.com.ar/11vgn_v...  \n",
              "3       NaN  http://tres-de-febrero.properati.com.ar/7f7u_v...  \n",
              "4       NaN  http://chacarita.properati.com.ar/10qlv_venta_...  "
            ],
            "text/html": [
              "\n",
              "  <div id=\"df-3a8d63aa-9101-43ef-9d87-b81315dd7e73\" class=\"colab-df-container\">\n",
              "    <div>\n",
              "<style scoped>\n",
              "    .dataframe tbody tr th:only-of-type {\n",
              "        vertical-align: middle;\n",
              "    }\n",
              "\n",
              "    .dataframe tbody tr th {\n",
              "        vertical-align: top;\n",
              "    }\n",
              "\n",
              "    .dataframe thead th {\n",
              "        text-align: right;\n",
              "    }\n",
              "</style>\n",
              "<table border=\"1\" class=\"dataframe\">\n",
              "  <thead>\n",
              "    <tr style=\"text-align: right;\">\n",
              "      <th></th>\n",
              "      <th>operation</th>\n",
              "      <th>property_type</th>\n",
              "      <th>place_with_parent_names</th>\n",
              "      <th>lat-lon</th>\n",
              "      <th>price</th>\n",
              "      <th>currency</th>\n",
              "      <th>price_aprox_local_currency</th>\n",
              "      <th>price_aprox_usd</th>\n",
              "      <th>surface_total_in_m2</th>\n",
              "      <th>surface_covered_in_m2</th>\n",
              "      <th>price_usd_per_m2</th>\n",
              "      <th>price_per_m2</th>\n",
              "      <th>floor</th>\n",
              "      <th>rooms</th>\n",
              "      <th>expenses</th>\n",
              "      <th>properati_url</th>\n",
              "    </tr>\n",
              "  </thead>\n",
              "  <tbody>\n",
              "    <tr>\n",
              "      <th>0</th>\n",
              "      <td>sell</td>\n",
              "      <td>apartment</td>\n",
              "      <td>|Argentina|Capital Federal|Villa Crespo|</td>\n",
              "      <td>-34.6047834183,-58.4586812499</td>\n",
              "      <td>180000.0</td>\n",
              "      <td>USD</td>\n",
              "      <td>2729232.0</td>\n",
              "      <td>180000.0</td>\n",
              "      <td>120.0</td>\n",
              "      <td>110.0</td>\n",
              "      <td>1500.000000</td>\n",
              "      <td>1636.363636</td>\n",
              "      <td>NaN</td>\n",
              "      <td>4.0</td>\n",
              "      <td>NaN</td>\n",
              "      <td>http://villa-crespo.properati.com.ar/12egq_ven...</td>\n",
              "    </tr>\n",
              "    <tr>\n",
              "      <th>1</th>\n",
              "      <td>sell</td>\n",
              "      <td>house</td>\n",
              "      <td>|Argentina|Bs.As. G.B.A. Zona Oeste|La Matanza...</td>\n",
              "      <td>NaN</td>\n",
              "      <td>250000.0</td>\n",
              "      <td>USD</td>\n",
              "      <td>3790600.0</td>\n",
              "      <td>250000.0</td>\n",
              "      <td>117.0</td>\n",
              "      <td>120.0</td>\n",
              "      <td>2136.752137</td>\n",
              "      <td>2083.333333</td>\n",
              "      <td>NaN</td>\n",
              "      <td>4.0</td>\n",
              "      <td>NaN</td>\n",
              "      <td>http://ramos-mejia.properati.com.ar/s7pd_venta...</td>\n",
              "    </tr>\n",
              "    <tr>\n",
              "      <th>2</th>\n",
              "      <td>sell</td>\n",
              "      <td>house</td>\n",
              "      <td>|Argentina|Bs.As. G.B.A. Zona Oeste|Morón|Cast...</td>\n",
              "      <td>-34.6497002,-58.658073</td>\n",
              "      <td>410000.0</td>\n",
              "      <td>USD</td>\n",
              "      <td>6216584.0</td>\n",
              "      <td>410000.0</td>\n",
              "      <td>410.0</td>\n",
              "      <td>220.0</td>\n",
              "      <td>1000.000000</td>\n",
              "      <td>1863.636364</td>\n",
              "      <td>NaN</td>\n",
              "      <td>NaN</td>\n",
              "      <td>NaN</td>\n",
              "      <td>http://castelar-moron.properati.com.ar/11vgn_v...</td>\n",
              "    </tr>\n",
              "    <tr>\n",
              "      <th>3</th>\n",
              "      <td>sell</td>\n",
              "      <td>house</td>\n",
              "      <td>|Argentina|Bs.As. G.B.A. Zona Oeste|Tres de Fe...</td>\n",
              "      <td>-34.5957086,-58.5669503</td>\n",
              "      <td>180000.0</td>\n",
              "      <td>USD</td>\n",
              "      <td>2729232.0</td>\n",
              "      <td>180000.0</td>\n",
              "      <td>200.0</td>\n",
              "      <td>135.0</td>\n",
              "      <td>900.000000</td>\n",
              "      <td>1333.333333</td>\n",
              "      <td>NaN</td>\n",
              "      <td>5.0</td>\n",
              "      <td>NaN</td>\n",
              "      <td>http://tres-de-febrero.properati.com.ar/7f7u_v...</td>\n",
              "    </tr>\n",
              "    <tr>\n",
              "      <th>4</th>\n",
              "      <td>sell</td>\n",
              "      <td>apartment</td>\n",
              "      <td>|Argentina|Capital Federal|Chacarita|</td>\n",
              "      <td>-34.5846508988,-58.4546932614</td>\n",
              "      <td>129000.0</td>\n",
              "      <td>USD</td>\n",
              "      <td>1955949.6</td>\n",
              "      <td>129000.0</td>\n",
              "      <td>76.0</td>\n",
              "      <td>70.0</td>\n",
              "      <td>1697.368421</td>\n",
              "      <td>1842.857143</td>\n",
              "      <td>NaN</td>\n",
              "      <td>NaN</td>\n",
              "      <td>NaN</td>\n",
              "      <td>http://chacarita.properati.com.ar/10qlv_venta_...</td>\n",
              "    </tr>\n",
              "  </tbody>\n",
              "</table>\n",
              "</div>\n",
              "    <div class=\"colab-df-buttons\">\n",
              "\n",
              "  <div class=\"colab-df-container\">\n",
              "    <button class=\"colab-df-convert\" onclick=\"convertToInteractive('df-3a8d63aa-9101-43ef-9d87-b81315dd7e73')\"\n",
              "            title=\"Convert this dataframe to an interactive table.\"\n",
              "            style=\"display:none;\">\n",
              "\n",
              "  <svg xmlns=\"http://www.w3.org/2000/svg\" height=\"24px\" viewBox=\"0 -960 960 960\">\n",
              "    <path d=\"M120-120v-720h720v720H120Zm60-500h600v-160H180v160Zm220 220h160v-160H400v160Zm0 220h160v-160H400v160ZM180-400h160v-160H180v160Zm440 0h160v-160H620v160ZM180-180h160v-160H180v160Zm440 0h160v-160H620v160Z\"/>\n",
              "  </svg>\n",
              "    </button>\n",
              "\n",
              "  <style>\n",
              "    .colab-df-container {\n",
              "      display:flex;\n",
              "      gap: 12px;\n",
              "    }\n",
              "\n",
              "    .colab-df-convert {\n",
              "      background-color: #E8F0FE;\n",
              "      border: none;\n",
              "      border-radius: 50%;\n",
              "      cursor: pointer;\n",
              "      display: none;\n",
              "      fill: #1967D2;\n",
              "      height: 32px;\n",
              "      padding: 0 0 0 0;\n",
              "      width: 32px;\n",
              "    }\n",
              "\n",
              "    .colab-df-convert:hover {\n",
              "      background-color: #E2EBFA;\n",
              "      box-shadow: 0px 1px 2px rgba(60, 64, 67, 0.3), 0px 1px 3px 1px rgba(60, 64, 67, 0.15);\n",
              "      fill: #174EA6;\n",
              "    }\n",
              "\n",
              "    .colab-df-buttons div {\n",
              "      margin-bottom: 4px;\n",
              "    }\n",
              "\n",
              "    [theme=dark] .colab-df-convert {\n",
              "      background-color: #3B4455;\n",
              "      fill: #D2E3FC;\n",
              "    }\n",
              "\n",
              "    [theme=dark] .colab-df-convert:hover {\n",
              "      background-color: #434B5C;\n",
              "      box-shadow: 0px 1px 3px 1px rgba(0, 0, 0, 0.15);\n",
              "      filter: drop-shadow(0px 1px 2px rgba(0, 0, 0, 0.3));\n",
              "      fill: #FFFFFF;\n",
              "    }\n",
              "  </style>\n",
              "\n",
              "    <script>\n",
              "      const buttonEl =\n",
              "        document.querySelector('#df-3a8d63aa-9101-43ef-9d87-b81315dd7e73 button.colab-df-convert');\n",
              "      buttonEl.style.display =\n",
              "        google.colab.kernel.accessAllowed ? 'block' : 'none';\n",
              "\n",
              "      async function convertToInteractive(key) {\n",
              "        const element = document.querySelector('#df-3a8d63aa-9101-43ef-9d87-b81315dd7e73');\n",
              "        const dataTable =\n",
              "          await google.colab.kernel.invokeFunction('convertToInteractive',\n",
              "                                                    [key], {});\n",
              "        if (!dataTable) return;\n",
              "\n",
              "        const docLinkHtml = 'Like what you see? Visit the ' +\n",
              "          '<a target=\"_blank\" href=https://colab.research.google.com/notebooks/data_table.ipynb>data table notebook</a>'\n",
              "          + ' to learn more about interactive tables.';\n",
              "        element.innerHTML = '';\n",
              "        dataTable['output_type'] = 'display_data';\n",
              "        await google.colab.output.renderOutput(dataTable, element);\n",
              "        const docLink = document.createElement('div');\n",
              "        docLink.innerHTML = docLinkHtml;\n",
              "        element.appendChild(docLink);\n",
              "      }\n",
              "    </script>\n",
              "  </div>\n",
              "\n",
              "\n",
              "<div id=\"df-0fdc4d45-296e-4924-a6f6-3b473cfb5a4e\">\n",
              "  <button class=\"colab-df-quickchart\" onclick=\"quickchart('df-0fdc4d45-296e-4924-a6f6-3b473cfb5a4e')\"\n",
              "            title=\"Suggest charts\"\n",
              "            style=\"display:none;\">\n",
              "\n",
              "<svg xmlns=\"http://www.w3.org/2000/svg\" height=\"24px\"viewBox=\"0 0 24 24\"\n",
              "     width=\"24px\">\n",
              "    <g>\n",
              "        <path d=\"M19 3H5c-1.1 0-2 .9-2 2v14c0 1.1.9 2 2 2h14c1.1 0 2-.9 2-2V5c0-1.1-.9-2-2-2zM9 17H7v-7h2v7zm4 0h-2V7h2v10zm4 0h-2v-4h2v4z\"/>\n",
              "    </g>\n",
              "</svg>\n",
              "  </button>\n",
              "\n",
              "<style>\n",
              "  .colab-df-quickchart {\n",
              "      --bg-color: #E8F0FE;\n",
              "      --fill-color: #1967D2;\n",
              "      --hover-bg-color: #E2EBFA;\n",
              "      --hover-fill-color: #174EA6;\n",
              "      --disabled-fill-color: #AAA;\n",
              "      --disabled-bg-color: #DDD;\n",
              "  }\n",
              "\n",
              "  [theme=dark] .colab-df-quickchart {\n",
              "      --bg-color: #3B4455;\n",
              "      --fill-color: #D2E3FC;\n",
              "      --hover-bg-color: #434B5C;\n",
              "      --hover-fill-color: #FFFFFF;\n",
              "      --disabled-bg-color: #3B4455;\n",
              "      --disabled-fill-color: #666;\n",
              "  }\n",
              "\n",
              "  .colab-df-quickchart {\n",
              "    background-color: var(--bg-color);\n",
              "    border: none;\n",
              "    border-radius: 50%;\n",
              "    cursor: pointer;\n",
              "    display: none;\n",
              "    fill: var(--fill-color);\n",
              "    height: 32px;\n",
              "    padding: 0;\n",
              "    width: 32px;\n",
              "  }\n",
              "\n",
              "  .colab-df-quickchart:hover {\n",
              "    background-color: var(--hover-bg-color);\n",
              "    box-shadow: 0 1px 2px rgba(60, 64, 67, 0.3), 0 1px 3px 1px rgba(60, 64, 67, 0.15);\n",
              "    fill: var(--button-hover-fill-color);\n",
              "  }\n",
              "\n",
              "  .colab-df-quickchart-complete:disabled,\n",
              "  .colab-df-quickchart-complete:disabled:hover {\n",
              "    background-color: var(--disabled-bg-color);\n",
              "    fill: var(--disabled-fill-color);\n",
              "    box-shadow: none;\n",
              "  }\n",
              "\n",
              "  .colab-df-spinner {\n",
              "    border: 2px solid var(--fill-color);\n",
              "    border-color: transparent;\n",
              "    border-bottom-color: var(--fill-color);\n",
              "    animation:\n",
              "      spin 1s steps(1) infinite;\n",
              "  }\n",
              "\n",
              "  @keyframes spin {\n",
              "    0% {\n",
              "      border-color: transparent;\n",
              "      border-bottom-color: var(--fill-color);\n",
              "      border-left-color: var(--fill-color);\n",
              "    }\n",
              "    20% {\n",
              "      border-color: transparent;\n",
              "      border-left-color: var(--fill-color);\n",
              "      border-top-color: var(--fill-color);\n",
              "    }\n",
              "    30% {\n",
              "      border-color: transparent;\n",
              "      border-left-color: var(--fill-color);\n",
              "      border-top-color: var(--fill-color);\n",
              "      border-right-color: var(--fill-color);\n",
              "    }\n",
              "    40% {\n",
              "      border-color: transparent;\n",
              "      border-right-color: var(--fill-color);\n",
              "      border-top-color: var(--fill-color);\n",
              "    }\n",
              "    60% {\n",
              "      border-color: transparent;\n",
              "      border-right-color: var(--fill-color);\n",
              "    }\n",
              "    80% {\n",
              "      border-color: transparent;\n",
              "      border-right-color: var(--fill-color);\n",
              "      border-bottom-color: var(--fill-color);\n",
              "    }\n",
              "    90% {\n",
              "      border-color: transparent;\n",
              "      border-bottom-color: var(--fill-color);\n",
              "    }\n",
              "  }\n",
              "</style>\n",
              "\n",
              "  <script>\n",
              "    async function quickchart(key) {\n",
              "      const quickchartButtonEl =\n",
              "        document.querySelector('#' + key + ' button');\n",
              "      quickchartButtonEl.disabled = true;  // To prevent multiple clicks.\n",
              "      quickchartButtonEl.classList.add('colab-df-spinner');\n",
              "      try {\n",
              "        const charts = await google.colab.kernel.invokeFunction(\n",
              "            'suggestCharts', [key], {});\n",
              "      } catch (error) {\n",
              "        console.error('Error during call to suggestCharts:', error);\n",
              "      }\n",
              "      quickchartButtonEl.classList.remove('colab-df-spinner');\n",
              "      quickchartButtonEl.classList.add('colab-df-quickchart-complete');\n",
              "    }\n",
              "    (() => {\n",
              "      let quickchartButtonEl =\n",
              "        document.querySelector('#df-0fdc4d45-296e-4924-a6f6-3b473cfb5a4e button');\n",
              "      quickchartButtonEl.style.display =\n",
              "        google.colab.kernel.accessAllowed ? 'block' : 'none';\n",
              "    })();\n",
              "  </script>\n",
              "</div>\n",
              "\n",
              "    </div>\n",
              "  </div>\n"
            ],
            "application/vnd.google.colaboratory.intrinsic+json": {
              "type": "dataframe",
              "variable_name": "df",
              "summary": "{\n  \"name\": \"df\",\n  \"rows\": 8606,\n  \"fields\": [\n    {\n      \"column\": \"operation\",\n      \"properties\": {\n        \"dtype\": \"category\",\n        \"num_unique_values\": 1,\n        \"samples\": [\n          \"sell\"\n        ],\n        \"semantic_type\": \"\",\n        \"description\": \"\"\n      }\n    },\n    {\n      \"column\": \"property_type\",\n      \"properties\": {\n        \"dtype\": \"category\",\n        \"num_unique_values\": 4,\n        \"samples\": [\n          \"house\"\n        ],\n        \"semantic_type\": \"\",\n        \"description\": \"\"\n      }\n    },\n    {\n      \"column\": \"place_with_parent_names\",\n      \"properties\": {\n        \"dtype\": \"category\",\n        \"num_unique_values\": 370,\n        \"samples\": [\n          \"|Argentina|Bs.As. G.B.A. Zona Norte|General San Mart\\u00edn|Villa Maipu|\"\n        ],\n        \"semantic_type\": \"\",\n        \"description\": \"\"\n      }\n    },\n    {\n      \"column\": \"lat-lon\",\n      \"properties\": {\n        \"dtype\": \"string\",\n        \"num_unique_values\": 6074,\n        \"samples\": [\n          \"-34.5831329,-58.4208369\"\n        ],\n        \"semantic_type\": \"\",\n        \"description\": \"\"\n      }\n    },\n    {\n      \"column\": \"price\",\n      \"properties\": {\n        \"dtype\": \"number\",\n        \"std\": 507458.5692025196,\n        \"min\": 0.0,\n        \"max\": 11111111.0,\n        \"num_unique_values\": 1136,\n        \"samples\": [\n          82561.0\n        ],\n        \"semantic_type\": \"\",\n        \"description\": \"\"\n      }\n    },\n    {\n      \"column\": \"currency\",\n      \"properties\": {\n        \"dtype\": \"category\",\n        \"num_unique_values\": 2,\n        \"samples\": [\n          \"ARS\"\n        ],\n        \"semantic_type\": \"\",\n        \"description\": \"\"\n      }\n    },\n    {\n      \"column\": \"price_aprox_local_currency\",\n      \"properties\": {\n        \"dtype\": \"number\",\n        \"std\": 4758038.246340516,\n        \"min\": 0.0,\n        \"max\": 121299200.0,\n        \"num_unique_values\": 1207,\n        \"samples\": [\n          17436760.0\n        ],\n        \"semantic_type\": \"\",\n        \"description\": \"\"\n      }\n    },\n    {\n      \"column\": \"price_aprox_usd\",\n      \"properties\": {\n        \"dtype\": \"number\",\n        \"std\": 313805.08667772607,\n        \"min\": 0.0,\n        \"max\": 8000000.0,\n        \"num_unique_values\": 1207,\n        \"samples\": [\n          1150000.0\n        ],\n        \"semantic_type\": \"\",\n        \"description\": \"\"\n      }\n    },\n    {\n      \"column\": \"surface_total_in_m2\",\n      \"properties\": {\n        \"dtype\": \"number\",\n        \"std\": 938.3748616937978,\n        \"min\": 0.0,\n        \"max\": 62034.0,\n        \"num_unique_values\": 727,\n        \"samples\": [\n          827.0\n        ],\n        \"semantic_type\": \"\",\n        \"description\": \"\"\n      }\n    },\n    {\n      \"column\": \"surface_covered_in_m2\",\n      \"properties\": {\n        \"dtype\": \"number\",\n        \"std\": 764.0929310565024,\n        \"min\": 0.0,\n        \"max\": 62034.0,\n        \"num_unique_values\": 487,\n        \"samples\": [\n          57.0\n        ],\n        \"semantic_type\": \"\",\n        \"description\": \"\"\n      }\n    },\n    {\n      \"column\": \"price_usd_per_m2\",\n      \"properties\": {\n        \"dtype\": \"number\",\n        \"std\": 1577.0244298624714,\n        \"min\": 0.0,\n        \"max\": 54990.0,\n        \"num_unique_values\": 3156,\n        \"samples\": [\n          1510.989011\n        ],\n        \"semantic_type\": \"\",\n        \"description\": \"\"\n      }\n    },\n    {\n      \"column\": \"price_per_m2\",\n      \"properties\": {\n        \"dtype\": \"number\",\n        \"std\": 12265.59201345836,\n        \"min\": 2.224586517,\n        \"max\": 450000.0,\n        \"num_unique_values\": 3466,\n        \"samples\": [\n          1886.792453\n        ],\n        \"semantic_type\": \"\",\n        \"description\": \"\"\n      }\n    },\n    {\n      \"column\": \"floor\",\n      \"properties\": {\n        \"dtype\": \"number\",\n        \"std\": 59.640308667405726,\n        \"min\": 1.0,\n        \"max\": 1503.0,\n        \"num_unique_values\": 41,\n        \"samples\": [\n          27.0\n        ],\n        \"semantic_type\": \"\",\n        \"description\": \"\"\n      }\n    },\n    {\n      \"column\": \"rooms\",\n      \"properties\": {\n        \"dtype\": \"number\",\n        \"std\": 1.3864809071269306,\n        \"min\": 1.0,\n        \"max\": 20.0,\n        \"num_unique_values\": 13,\n        \"samples\": [\n          20.0\n        ],\n        \"semantic_type\": \"\",\n        \"description\": \"\"\n      }\n    },\n    {\n      \"column\": \"expenses\",\n      \"properties\": {\n        \"dtype\": \"number\",\n        \"std\": 6.772052012288658e+17,\n        \"min\": 1.0,\n        \"max\": 2.0032e+19,\n        \"num_unique_values\": 214,\n        \"samples\": [\n          400.0\n        ],\n        \"semantic_type\": \"\",\n        \"description\": \"\"\n      }\n    },\n    {\n      \"column\": \"properati_url\",\n      \"properties\": {\n        \"dtype\": \"string\",\n        \"num_unique_values\": 8606,\n        \"samples\": [\n          \"http://pilar.properati.com.ar/107ep_venta_casa_pilar_jardin_re-max-central\"\n        ],\n        \"semantic_type\": \"\",\n        \"description\": \"\"\n      }\n    }\n  ]\n}"
            }
          },
          "metadata": {},
          "execution_count": 3
        }
      ]
    },
    {
      "cell_type": "markdown",
      "source": [
        "For this project, we want to build a model for apartments in Buenos Aires proper (\"Capital Federal\") that cost less than $400,000. Looking at the first five rows of our DataFrame, we can already see that there properties that fall outside those parameters. So our first cleaning task is to remove those observations from our dataset. Since we're using a function to import and clean our data, we'll need to make changes there."
      ],
      "metadata": {
        "id": "slxxDQeYWsPi"
      }
    },
    {
      "cell_type": "code",
      "source": [
        "def wrangle(filepath):\n",
        "    # Read csv file to df\n",
        "    df = pd.read_csv(filepath)\n",
        "\n",
        "    # subset to properties in \"Capital Federal\"\n",
        "    mask_ba = df[\"place_with_parent_names\"].str.contains(\"Capital Federal\")\n",
        "    # subset to \"appartments\"\n",
        "    mask_apt = df[\"property_type\"] == \"apartment\"\n",
        "    # subset to price < 400,000 USD\n",
        "    mask_price = df[\"price_aprox_usd\"]<400_000\n",
        "    # subset\n",
        "    df = df[mask_ba & mask_apt & mask_price]\n",
        "\n",
        "    return df"
      ],
      "metadata": {
        "execution": {
          "iopub.status.busy": "2022-08-22T04:58:58.717146Z",
          "iopub.execute_input": "2022-08-22T04:58:58.717567Z",
          "iopub.status.idle": "2022-08-22T04:58:58.7239Z",
          "shell.execute_reply.started": "2022-08-22T04:58:58.717523Z",
          "shell.execute_reply": "2022-08-22T04:58:58.722765Z"
        },
        "trusted": true,
        "id": "Wpq90P7zWsPj"
      },
      "execution_count": null,
      "outputs": []
    },
    {
      "cell_type": "code",
      "source": [
        "df = wrangle(\"/content/buenos-aires-real-estate-1.csv\")\n",
        "print(\"df shape:\", df.shape)\n",
        "df.head()"
      ],
      "metadata": {
        "execution": {
          "iopub.status.busy": "2022-08-22T04:59:09.641222Z",
          "iopub.execute_input": "2022-08-22T04:59:09.641649Z",
          "iopub.status.idle": "2022-08-22T04:59:09.734548Z",
          "shell.execute_reply.started": "2022-08-22T04:59:09.641606Z",
          "shell.execute_reply": "2022-08-22T04:59:09.732692Z"
        },
        "trusted": true,
        "id": "0rGIkJdMWsPl",
        "colab": {
          "base_uri": "https://localhost:8080/",
          "height": 331
        },
        "outputId": "065133b2-15b0-4ee8-9b2d-bad5a90b7c0c"
      },
      "execution_count": null,
      "outputs": [
        {
          "output_type": "stream",
          "name": "stdout",
          "text": [
            "df shape: (1781, 16)\n"
          ]
        },
        {
          "output_type": "execute_result",
          "data": {
            "text/plain": [
              "   operation property_type                   place_with_parent_names  \\\n",
              "0       sell     apartment  |Argentina|Capital Federal|Villa Crespo|   \n",
              "4       sell     apartment     |Argentina|Capital Federal|Chacarita|   \n",
              "9       sell     apartment    |Argentina|Capital Federal|Villa Luro|   \n",
              "11      sell     apartment          |Argentina|Capital Federal|Once|   \n",
              "20      sell     apartment   |Argentina|Capital Federal|San Nicolás|   \n",
              "\n",
              "                          lat-lon     price currency  \\\n",
              "0   -34.6047834183,-58.4586812499  180000.0      USD   \n",
              "4   -34.5846508988,-58.4546932614  129000.0      USD   \n",
              "9          -34.6389789,-58.500115   87000.0      USD   \n",
              "11  -34.6050060697,-58.4001162302   60000.0      USD   \n",
              "20          -34.603898,-58.378617   69000.0      USD   \n",
              "\n",
              "    price_aprox_local_currency  price_aprox_usd  surface_total_in_m2  \\\n",
              "0                    2729232.0         180000.0                120.0   \n",
              "4                    1955949.6         129000.0                 76.0   \n",
              "9                    1319128.8          87000.0                 48.0   \n",
              "11                    909744.0          60000.0                 28.0   \n",
              "20                   1046205.6          69000.0                  NaN   \n",
              "\n",
              "    surface_covered_in_m2  price_usd_per_m2  price_per_m2  floor  rooms  \\\n",
              "0                   110.0       1500.000000   1636.363636    NaN    4.0   \n",
              "4                    70.0       1697.368421   1842.857143    NaN    NaN   \n",
              "9                    42.0       1812.500000   2071.428571    NaN    NaN   \n",
              "11                   28.0       2142.857143   2142.857143    NaN    1.0   \n",
              "20                   22.0               NaN   3136.363636   23.0    2.0   \n",
              "\n",
              "    expenses                                      properati_url  \n",
              "0        NaN  http://villa-crespo.properati.com.ar/12egq_ven...  \n",
              "4        NaN  http://chacarita.properati.com.ar/10qlv_venta_...  \n",
              "9        NaN  http://villa-luro.properati.com.ar/12m82_venta...  \n",
              "11       NaN  http://once.properati.com.ar/zz0q_venta_depart...  \n",
              "20       NaN  http://san-nicolas.properati.com.ar/rnju_venta...  "
            ],
            "text/html": [
              "\n",
              "  <div id=\"df-a8de5047-dded-4683-b047-6b755e9e3906\" class=\"colab-df-container\">\n",
              "    <div>\n",
              "<style scoped>\n",
              "    .dataframe tbody tr th:only-of-type {\n",
              "        vertical-align: middle;\n",
              "    }\n",
              "\n",
              "    .dataframe tbody tr th {\n",
              "        vertical-align: top;\n",
              "    }\n",
              "\n",
              "    .dataframe thead th {\n",
              "        text-align: right;\n",
              "    }\n",
              "</style>\n",
              "<table border=\"1\" class=\"dataframe\">\n",
              "  <thead>\n",
              "    <tr style=\"text-align: right;\">\n",
              "      <th></th>\n",
              "      <th>operation</th>\n",
              "      <th>property_type</th>\n",
              "      <th>place_with_parent_names</th>\n",
              "      <th>lat-lon</th>\n",
              "      <th>price</th>\n",
              "      <th>currency</th>\n",
              "      <th>price_aprox_local_currency</th>\n",
              "      <th>price_aprox_usd</th>\n",
              "      <th>surface_total_in_m2</th>\n",
              "      <th>surface_covered_in_m2</th>\n",
              "      <th>price_usd_per_m2</th>\n",
              "      <th>price_per_m2</th>\n",
              "      <th>floor</th>\n",
              "      <th>rooms</th>\n",
              "      <th>expenses</th>\n",
              "      <th>properati_url</th>\n",
              "    </tr>\n",
              "  </thead>\n",
              "  <tbody>\n",
              "    <tr>\n",
              "      <th>0</th>\n",
              "      <td>sell</td>\n",
              "      <td>apartment</td>\n",
              "      <td>|Argentina|Capital Federal|Villa Crespo|</td>\n",
              "      <td>-34.6047834183,-58.4586812499</td>\n",
              "      <td>180000.0</td>\n",
              "      <td>USD</td>\n",
              "      <td>2729232.0</td>\n",
              "      <td>180000.0</td>\n",
              "      <td>120.0</td>\n",
              "      <td>110.0</td>\n",
              "      <td>1500.000000</td>\n",
              "      <td>1636.363636</td>\n",
              "      <td>NaN</td>\n",
              "      <td>4.0</td>\n",
              "      <td>NaN</td>\n",
              "      <td>http://villa-crespo.properati.com.ar/12egq_ven...</td>\n",
              "    </tr>\n",
              "    <tr>\n",
              "      <th>4</th>\n",
              "      <td>sell</td>\n",
              "      <td>apartment</td>\n",
              "      <td>|Argentina|Capital Federal|Chacarita|</td>\n",
              "      <td>-34.5846508988,-58.4546932614</td>\n",
              "      <td>129000.0</td>\n",
              "      <td>USD</td>\n",
              "      <td>1955949.6</td>\n",
              "      <td>129000.0</td>\n",
              "      <td>76.0</td>\n",
              "      <td>70.0</td>\n",
              "      <td>1697.368421</td>\n",
              "      <td>1842.857143</td>\n",
              "      <td>NaN</td>\n",
              "      <td>NaN</td>\n",
              "      <td>NaN</td>\n",
              "      <td>http://chacarita.properati.com.ar/10qlv_venta_...</td>\n",
              "    </tr>\n",
              "    <tr>\n",
              "      <th>9</th>\n",
              "      <td>sell</td>\n",
              "      <td>apartment</td>\n",
              "      <td>|Argentina|Capital Federal|Villa Luro|</td>\n",
              "      <td>-34.6389789,-58.500115</td>\n",
              "      <td>87000.0</td>\n",
              "      <td>USD</td>\n",
              "      <td>1319128.8</td>\n",
              "      <td>87000.0</td>\n",
              "      <td>48.0</td>\n",
              "      <td>42.0</td>\n",
              "      <td>1812.500000</td>\n",
              "      <td>2071.428571</td>\n",
              "      <td>NaN</td>\n",
              "      <td>NaN</td>\n",
              "      <td>NaN</td>\n",
              "      <td>http://villa-luro.properati.com.ar/12m82_venta...</td>\n",
              "    </tr>\n",
              "    <tr>\n",
              "      <th>11</th>\n",
              "      <td>sell</td>\n",
              "      <td>apartment</td>\n",
              "      <td>|Argentina|Capital Federal|Once|</td>\n",
              "      <td>-34.6050060697,-58.4001162302</td>\n",
              "      <td>60000.0</td>\n",
              "      <td>USD</td>\n",
              "      <td>909744.0</td>\n",
              "      <td>60000.0</td>\n",
              "      <td>28.0</td>\n",
              "      <td>28.0</td>\n",
              "      <td>2142.857143</td>\n",
              "      <td>2142.857143</td>\n",
              "      <td>NaN</td>\n",
              "      <td>1.0</td>\n",
              "      <td>NaN</td>\n",
              "      <td>http://once.properati.com.ar/zz0q_venta_depart...</td>\n",
              "    </tr>\n",
              "    <tr>\n",
              "      <th>20</th>\n",
              "      <td>sell</td>\n",
              "      <td>apartment</td>\n",
              "      <td>|Argentina|Capital Federal|San Nicolás|</td>\n",
              "      <td>-34.603898,-58.378617</td>\n",
              "      <td>69000.0</td>\n",
              "      <td>USD</td>\n",
              "      <td>1046205.6</td>\n",
              "      <td>69000.0</td>\n",
              "      <td>NaN</td>\n",
              "      <td>22.0</td>\n",
              "      <td>NaN</td>\n",
              "      <td>3136.363636</td>\n",
              "      <td>23.0</td>\n",
              "      <td>2.0</td>\n",
              "      <td>NaN</td>\n",
              "      <td>http://san-nicolas.properati.com.ar/rnju_venta...</td>\n",
              "    </tr>\n",
              "  </tbody>\n",
              "</table>\n",
              "</div>\n",
              "    <div class=\"colab-df-buttons\">\n",
              "\n",
              "  <div class=\"colab-df-container\">\n",
              "    <button class=\"colab-df-convert\" onclick=\"convertToInteractive('df-a8de5047-dded-4683-b047-6b755e9e3906')\"\n",
              "            title=\"Convert this dataframe to an interactive table.\"\n",
              "            style=\"display:none;\">\n",
              "\n",
              "  <svg xmlns=\"http://www.w3.org/2000/svg\" height=\"24px\" viewBox=\"0 -960 960 960\">\n",
              "    <path d=\"M120-120v-720h720v720H120Zm60-500h600v-160H180v160Zm220 220h160v-160H400v160Zm0 220h160v-160H400v160ZM180-400h160v-160H180v160Zm440 0h160v-160H620v160ZM180-180h160v-160H180v160Zm440 0h160v-160H620v160Z\"/>\n",
              "  </svg>\n",
              "    </button>\n",
              "\n",
              "  <style>\n",
              "    .colab-df-container {\n",
              "      display:flex;\n",
              "      gap: 12px;\n",
              "    }\n",
              "\n",
              "    .colab-df-convert {\n",
              "      background-color: #E8F0FE;\n",
              "      border: none;\n",
              "      border-radius: 50%;\n",
              "      cursor: pointer;\n",
              "      display: none;\n",
              "      fill: #1967D2;\n",
              "      height: 32px;\n",
              "      padding: 0 0 0 0;\n",
              "      width: 32px;\n",
              "    }\n",
              "\n",
              "    .colab-df-convert:hover {\n",
              "      background-color: #E2EBFA;\n",
              "      box-shadow: 0px 1px 2px rgba(60, 64, 67, 0.3), 0px 1px 3px 1px rgba(60, 64, 67, 0.15);\n",
              "      fill: #174EA6;\n",
              "    }\n",
              "\n",
              "    .colab-df-buttons div {\n",
              "      margin-bottom: 4px;\n",
              "    }\n",
              "\n",
              "    [theme=dark] .colab-df-convert {\n",
              "      background-color: #3B4455;\n",
              "      fill: #D2E3FC;\n",
              "    }\n",
              "\n",
              "    [theme=dark] .colab-df-convert:hover {\n",
              "      background-color: #434B5C;\n",
              "      box-shadow: 0px 1px 3px 1px rgba(0, 0, 0, 0.15);\n",
              "      filter: drop-shadow(0px 1px 2px rgba(0, 0, 0, 0.3));\n",
              "      fill: #FFFFFF;\n",
              "    }\n",
              "  </style>\n",
              "\n",
              "    <script>\n",
              "      const buttonEl =\n",
              "        document.querySelector('#df-a8de5047-dded-4683-b047-6b755e9e3906 button.colab-df-convert');\n",
              "      buttonEl.style.display =\n",
              "        google.colab.kernel.accessAllowed ? 'block' : 'none';\n",
              "\n",
              "      async function convertToInteractive(key) {\n",
              "        const element = document.querySelector('#df-a8de5047-dded-4683-b047-6b755e9e3906');\n",
              "        const dataTable =\n",
              "          await google.colab.kernel.invokeFunction('convertToInteractive',\n",
              "                                                    [key], {});\n",
              "        if (!dataTable) return;\n",
              "\n",
              "        const docLinkHtml = 'Like what you see? Visit the ' +\n",
              "          '<a target=\"_blank\" href=https://colab.research.google.com/notebooks/data_table.ipynb>data table notebook</a>'\n",
              "          + ' to learn more about interactive tables.';\n",
              "        element.innerHTML = '';\n",
              "        dataTable['output_type'] = 'display_data';\n",
              "        await google.colab.output.renderOutput(dataTable, element);\n",
              "        const docLink = document.createElement('div');\n",
              "        docLink.innerHTML = docLinkHtml;\n",
              "        element.appendChild(docLink);\n",
              "      }\n",
              "    </script>\n",
              "  </div>\n",
              "\n",
              "\n",
              "<div id=\"df-2639fd31-edc9-4f74-a72a-041448857b95\">\n",
              "  <button class=\"colab-df-quickchart\" onclick=\"quickchart('df-2639fd31-edc9-4f74-a72a-041448857b95')\"\n",
              "            title=\"Suggest charts\"\n",
              "            style=\"display:none;\">\n",
              "\n",
              "<svg xmlns=\"http://www.w3.org/2000/svg\" height=\"24px\"viewBox=\"0 0 24 24\"\n",
              "     width=\"24px\">\n",
              "    <g>\n",
              "        <path d=\"M19 3H5c-1.1 0-2 .9-2 2v14c0 1.1.9 2 2 2h14c1.1 0 2-.9 2-2V5c0-1.1-.9-2-2-2zM9 17H7v-7h2v7zm4 0h-2V7h2v10zm4 0h-2v-4h2v4z\"/>\n",
              "    </g>\n",
              "</svg>\n",
              "  </button>\n",
              "\n",
              "<style>\n",
              "  .colab-df-quickchart {\n",
              "      --bg-color: #E8F0FE;\n",
              "      --fill-color: #1967D2;\n",
              "      --hover-bg-color: #E2EBFA;\n",
              "      --hover-fill-color: #174EA6;\n",
              "      --disabled-fill-color: #AAA;\n",
              "      --disabled-bg-color: #DDD;\n",
              "  }\n",
              "\n",
              "  [theme=dark] .colab-df-quickchart {\n",
              "      --bg-color: #3B4455;\n",
              "      --fill-color: #D2E3FC;\n",
              "      --hover-bg-color: #434B5C;\n",
              "      --hover-fill-color: #FFFFFF;\n",
              "      --disabled-bg-color: #3B4455;\n",
              "      --disabled-fill-color: #666;\n",
              "  }\n",
              "\n",
              "  .colab-df-quickchart {\n",
              "    background-color: var(--bg-color);\n",
              "    border: none;\n",
              "    border-radius: 50%;\n",
              "    cursor: pointer;\n",
              "    display: none;\n",
              "    fill: var(--fill-color);\n",
              "    height: 32px;\n",
              "    padding: 0;\n",
              "    width: 32px;\n",
              "  }\n",
              "\n",
              "  .colab-df-quickchart:hover {\n",
              "    background-color: var(--hover-bg-color);\n",
              "    box-shadow: 0 1px 2px rgba(60, 64, 67, 0.3), 0 1px 3px 1px rgba(60, 64, 67, 0.15);\n",
              "    fill: var(--button-hover-fill-color);\n",
              "  }\n",
              "\n",
              "  .colab-df-quickchart-complete:disabled,\n",
              "  .colab-df-quickchart-complete:disabled:hover {\n",
              "    background-color: var(--disabled-bg-color);\n",
              "    fill: var(--disabled-fill-color);\n",
              "    box-shadow: none;\n",
              "  }\n",
              "\n",
              "  .colab-df-spinner {\n",
              "    border: 2px solid var(--fill-color);\n",
              "    border-color: transparent;\n",
              "    border-bottom-color: var(--fill-color);\n",
              "    animation:\n",
              "      spin 1s steps(1) infinite;\n",
              "  }\n",
              "\n",
              "  @keyframes spin {\n",
              "    0% {\n",
              "      border-color: transparent;\n",
              "      border-bottom-color: var(--fill-color);\n",
              "      border-left-color: var(--fill-color);\n",
              "    }\n",
              "    20% {\n",
              "      border-color: transparent;\n",
              "      border-left-color: var(--fill-color);\n",
              "      border-top-color: var(--fill-color);\n",
              "    }\n",
              "    30% {\n",
              "      border-color: transparent;\n",
              "      border-left-color: var(--fill-color);\n",
              "      border-top-color: var(--fill-color);\n",
              "      border-right-color: var(--fill-color);\n",
              "    }\n",
              "    40% {\n",
              "      border-color: transparent;\n",
              "      border-right-color: var(--fill-color);\n",
              "      border-top-color: var(--fill-color);\n",
              "    }\n",
              "    60% {\n",
              "      border-color: transparent;\n",
              "      border-right-color: var(--fill-color);\n",
              "    }\n",
              "    80% {\n",
              "      border-color: transparent;\n",
              "      border-right-color: var(--fill-color);\n",
              "      border-bottom-color: var(--fill-color);\n",
              "    }\n",
              "    90% {\n",
              "      border-color: transparent;\n",
              "      border-bottom-color: var(--fill-color);\n",
              "    }\n",
              "  }\n",
              "</style>\n",
              "\n",
              "  <script>\n",
              "    async function quickchart(key) {\n",
              "      const quickchartButtonEl =\n",
              "        document.querySelector('#' + key + ' button');\n",
              "      quickchartButtonEl.disabled = true;  // To prevent multiple clicks.\n",
              "      quickchartButtonEl.classList.add('colab-df-spinner');\n",
              "      try {\n",
              "        const charts = await google.colab.kernel.invokeFunction(\n",
              "            'suggestCharts', [key], {});\n",
              "      } catch (error) {\n",
              "        console.error('Error during call to suggestCharts:', error);\n",
              "      }\n",
              "      quickchartButtonEl.classList.remove('colab-df-spinner');\n",
              "      quickchartButtonEl.classList.add('colab-df-quickchart-complete');\n",
              "    }\n",
              "    (() => {\n",
              "      let quickchartButtonEl =\n",
              "        document.querySelector('#df-2639fd31-edc9-4f74-a72a-041448857b95 button');\n",
              "      quickchartButtonEl.style.display =\n",
              "        google.colab.kernel.accessAllowed ? 'block' : 'none';\n",
              "    })();\n",
              "  </script>\n",
              "</div>\n",
              "\n",
              "    </div>\n",
              "  </div>\n"
            ],
            "application/vnd.google.colaboratory.intrinsic+json": {
              "type": "dataframe",
              "variable_name": "df",
              "summary": "{\n  \"name\": \"df\",\n  \"rows\": 1781,\n  \"fields\": [\n    {\n      \"column\": \"operation\",\n      \"properties\": {\n        \"dtype\": \"category\",\n        \"num_unique_values\": 1,\n        \"samples\": [\n          \"sell\"\n        ],\n        \"semantic_type\": \"\",\n        \"description\": \"\"\n      }\n    },\n    {\n      \"column\": \"property_type\",\n      \"properties\": {\n        \"dtype\": \"category\",\n        \"num_unique_values\": 1,\n        \"samples\": [\n          \"apartment\"\n        ],\n        \"semantic_type\": \"\",\n        \"description\": \"\"\n      }\n    },\n    {\n      \"column\": \"place_with_parent_names\",\n      \"properties\": {\n        \"dtype\": \"category\",\n        \"num_unique_values\": 55,\n        \"samples\": [\n          \"|Argentina|Capital Federal|Villa Lugano|\"\n        ],\n        \"semantic_type\": \"\",\n        \"description\": \"\"\n      }\n    },\n    {\n      \"column\": \"lat-lon\",\n      \"properties\": {\n        \"dtype\": \"string\",\n        \"num_unique_values\": 1506,\n        \"samples\": [\n          \"-34.6308843338,-58.3733312047\"\n        ],\n        \"semantic_type\": \"\",\n        \"description\": \"\"\n      }\n    },\n    {\n      \"column\": \"price\",\n      \"properties\": {\n        \"dtype\": \"number\",\n        \"std\": 410018.91818780656,\n        \"min\": 0.0,\n        \"max\": 5487000.0,\n        \"num_unique_values\": 577,\n        \"samples\": [\n          72000.0\n        ],\n        \"semantic_type\": \"\",\n        \"description\": \"\"\n      }\n    },\n    {\n      \"column\": \"currency\",\n      \"properties\": {\n        \"dtype\": \"category\",\n        \"num_unique_values\": 2,\n        \"samples\": [\n          \"ARS\"\n        ],\n        \"semantic_type\": \"\",\n        \"description\": \"\"\n      }\n    },\n    {\n      \"column\": \"price_aprox_local_currency\",\n      \"properties\": {\n        \"dtype\": \"number\",\n        \"std\": 1141709.8961778895,\n        \"min\": 0.0,\n        \"max\": 6034635.2,\n        \"num_unique_values\": 578,\n        \"samples\": [\n          1205410.8\n        ],\n        \"semantic_type\": \"\",\n        \"description\": \"\"\n      }\n    },\n    {\n      \"column\": \"price_aprox_usd\",\n      \"properties\": {\n        \"dtype\": \"number\",\n        \"std\": 75298.75850619271,\n        \"min\": 0.0,\n        \"max\": 398000.0,\n        \"num_unique_values\": 578,\n        \"samples\": [\n          79500.0\n        ],\n        \"semantic_type\": \"\",\n        \"description\": \"\"\n      }\n    },\n    {\n      \"column\": \"surface_total_in_m2\",\n      \"properties\": {\n        \"dtype\": \"number\",\n        \"std\": 1755.263895036746,\n        \"min\": 0.0,\n        \"max\": 62034.0,\n        \"num_unique_values\": 155,\n        \"samples\": [\n          89.0\n        ],\n        \"semantic_type\": \"\",\n        \"description\": \"\"\n      }\n    },\n    {\n      \"column\": \"surface_covered_in_m2\",\n      \"properties\": {\n        \"dtype\": \"number\",\n        \"std\": 1533.0576103500907,\n        \"min\": 0.0,\n        \"max\": 62034.0,\n        \"num_unique_values\": 152,\n        \"samples\": [\n          75.0\n        ],\n        \"semantic_type\": \"\",\n        \"description\": \"\"\n      }\n    },\n    {\n      \"column\": \"price_usd_per_m2\",\n      \"properties\": {\n        \"dtype\": \"number\",\n        \"std\": 650.1395868643186,\n        \"min\": 0.0,\n        \"max\": 5975.609756,\n        \"num_unique_values\": 923,\n        \"samples\": [\n          1956.521739\n        ],\n        \"semantic_type\": \"\",\n        \"description\": \"\"\n      }\n    },\n    {\n      \"column\": \"price_per_m2\",\n      \"properties\": {\n        \"dtype\": \"number\",\n        \"std\": 8126.9408104711065,\n        \"min\": 2.224586517,\n        \"max\": 57156.25,\n        \"num_unique_values\": 1203,\n        \"samples\": [\n          2175.0\n        ],\n        \"semantic_type\": \"\",\n        \"description\": \"\"\n      }\n    },\n    {\n      \"column\": \"floor\",\n      \"properties\": {\n        \"dtype\": \"number\",\n        \"std\": 44.78332015299259,\n        \"min\": 1.0,\n        \"max\": 616.0,\n        \"num_unique_values\": 34,\n        \"samples\": [\n          13.0\n        ],\n        \"semantic_type\": \"\",\n        \"description\": \"\"\n      }\n    },\n    {\n      \"column\": \"rooms\",\n      \"properties\": {\n        \"dtype\": \"number\",\n        \"std\": 1.0651930210216072,\n        \"min\": 1.0,\n        \"max\": 6.0,\n        \"num_unique_values\": 6,\n        \"samples\": [\n          4.0\n        ],\n        \"semantic_type\": \"\",\n        \"description\": \"\"\n      }\n    },\n    {\n      \"column\": \"expenses\",\n      \"properties\": {\n        \"dtype\": \"number\",\n        \"std\": 1470.734276979398,\n        \"min\": 1.0,\n        \"max\": 7456.0,\n        \"num_unique_values\": 146,\n        \"samples\": [\n          800.0\n        ],\n        \"semantic_type\": \"\",\n        \"description\": \"\"\n      }\n    },\n    {\n      \"column\": \"properati_url\",\n      \"properties\": {\n        \"dtype\": \"string\",\n        \"num_unique_values\": 1781,\n        \"samples\": [\n          \"http://palermo.properati.com.ar/10twa_venta_departamentos_palermo_re-max-plaza\"\n        ],\n        \"semantic_type\": \"\",\n        \"description\": \"\"\n      }\n    }\n  ]\n}"
            }
          },
          "metadata": {},
          "execution_count": 5
        }
      ]
    },
    {
      "cell_type": "code",
      "source": [
        "df.floor.median()\n",
        "df.floor.fillna(df.floor.median())\n",
        "df.floor = df.floor.fillna(df.floor.median())\n",
        "\n",
        "df.rooms.median()\n",
        "df.rooms.fillna(df.rooms.median())\n",
        "df.rooms = df.rooms.fillna(df.rooms.median())\n",
        "\n",
        "df.expenses.median()\n",
        "df.expenses.fillna(df.expenses.median())\n",
        "df.expenses = df.expenses.fillna(df.expenses.median())\n",
        "\n",
        "df.price_usd_per_m2.median()\n",
        "df.price_usd_per_m2.fillna(df.price_usd_per_m2.median())\n",
        "df.price_usd_per_m2 = df.price_usd_per_m2.fillna(df.price_usd_per_m2.median())\n",
        "\n",
        "df.surface_total_in_m2.median()\n",
        "df.surface_total_in_m2.fillna(df.rooms.median())\n",
        "df.surface_total_in_m2 = df.surface_total_in_m2.fillna(df.surface_total_in_m2.median())\n",
        "\n",
        "df"
      ],
      "metadata": {
        "id": "hawrmq4ml3fs",
        "colab": {
          "base_uri": "https://localhost:8080/",
          "height": 617
        },
        "outputId": "c5fd078d-979e-4df4-b0e0-b51d57bff686"
      },
      "execution_count": null,
      "outputs": [
        {
          "output_type": "execute_result",
          "data": {
            "text/plain": [
              "     operation property_type                   place_with_parent_names  \\\n",
              "0         sell     apartment  |Argentina|Capital Federal|Villa Crespo|   \n",
              "4         sell     apartment     |Argentina|Capital Federal|Chacarita|   \n",
              "9         sell     apartment    |Argentina|Capital Federal|Villa Luro|   \n",
              "11        sell     apartment          |Argentina|Capital Federal|Once|   \n",
              "20        sell     apartment   |Argentina|Capital Federal|San Nicolás|   \n",
              "...        ...           ...                                       ...   \n",
              "8589      sell     apartment      |Argentina|Capital Federal|Barracas|   \n",
              "8590      sell     apartment       |Argentina|Capital Federal|Almagro|   \n",
              "8593      sell     apartment      |Argentina|Capital Federal|Barracas|   \n",
              "8601      sell     apartment   |Argentina|Capital Federal|San Nicolás|   \n",
              "8604      sell     apartment         |Argentina|Capital Federal|Boedo|   \n",
              "\n",
              "                            lat-lon      price currency  \\\n",
              "0     -34.6047834183,-58.4586812499   180000.0      USD   \n",
              "4     -34.5846508988,-58.4546932614   129000.0      USD   \n",
              "9            -34.6389789,-58.500115    87000.0      USD   \n",
              "11    -34.6050060697,-58.4001162302    60000.0      USD   \n",
              "20            -34.603898,-58.378617    69000.0      USD   \n",
              "...                             ...        ...      ...   \n",
              "8589          -34.631591,-58.370191  1118100.0      ARS   \n",
              "8590        -34.6045547,-58.4182063   119000.0      USD   \n",
              "8593        -34.6240024,-58.3905883    62000.0      USD   \n",
              "8601          -34.601455,-58.378132   125000.0      USD   \n",
              "8604                            NaN    78000.0      USD   \n",
              "\n",
              "      price_aprox_local_currency  price_aprox_usd  surface_total_in_m2  \\\n",
              "0                     2729232.00        180000.00                120.0   \n",
              "4                     1955949.60        129000.00                 76.0   \n",
              "9                     1319128.80         87000.00                 48.0   \n",
              "11                     909744.00         60000.00                 28.0   \n",
              "20                    1046205.60         69000.00                 55.0   \n",
              "...                          ...              ...                  ...   \n",
              "8589                  1114996.65         73536.95                 49.0   \n",
              "8590                  1804325.60        119000.00                 46.0   \n",
              "8593                   940068.80         62000.00                 55.0   \n",
              "8601                  1895300.00        125000.00                 55.0   \n",
              "8604                  1182667.20         78000.00                 52.0   \n",
              "\n",
              "      surface_covered_in_m2  price_usd_per_m2  price_per_m2  floor  rooms  \\\n",
              "0                     110.0       1500.000000   1636.363636    4.0    4.0   \n",
              "4                      70.0       1697.368421   1842.857143    4.0    2.0   \n",
              "9                      42.0       1812.500000   2071.428571    4.0    2.0   \n",
              "11                     28.0       2142.857143   2142.857143    4.0    1.0   \n",
              "20                     22.0       2151.642336   3136.363636   23.0    2.0   \n",
              "...                     ...               ...           ...    ...    ...   \n",
              "8589                   42.0       1500.754082  26621.428570    3.0    1.0   \n",
              "8590                   41.0       2586.956522   2902.439024    4.0    2.0   \n",
              "8593                   43.0       2151.642336   1441.860465    4.0    2.0   \n",
              "8601                   70.0       2151.642336   1785.714286    2.0    3.0   \n",
              "8604                   52.0       1500.000000   1500.000000    4.0    2.0   \n",
              "\n",
              "      expenses                                      properati_url  \n",
              "0       1700.0  http://villa-crespo.properati.com.ar/12egq_ven...  \n",
              "4       1700.0  http://chacarita.properati.com.ar/10qlv_venta_...  \n",
              "9       1700.0  http://villa-luro.properati.com.ar/12m82_venta...  \n",
              "11      1700.0  http://once.properati.com.ar/zz0q_venta_depart...  \n",
              "20      1700.0  http://san-nicolas.properati.com.ar/rnju_venta...  \n",
              "...        ...                                                ...  \n",
              "8589    1700.0  http://barracas.properati.com.ar/npf1_venta_de...  \n",
              "8590    1700.0  http://almagro.properati.com.ar/ea4d_venta_dep...  \n",
              "8593    1700.0  http://barracas.properati.com.ar/oc61_venta_de...  \n",
              "8601    1700.0  http://san-nicolas.properati.com.ar/1004t_vent...  \n",
              "8604    1700.0  http://boedo.properati.com.ar/eh9b_venta_depar...  \n",
              "\n",
              "[1781 rows x 16 columns]"
            ],
            "text/html": [
              "\n",
              "  <div id=\"df-012d9fcb-1984-45a5-aebd-4952d9339f11\" class=\"colab-df-container\">\n",
              "    <div>\n",
              "<style scoped>\n",
              "    .dataframe tbody tr th:only-of-type {\n",
              "        vertical-align: middle;\n",
              "    }\n",
              "\n",
              "    .dataframe tbody tr th {\n",
              "        vertical-align: top;\n",
              "    }\n",
              "\n",
              "    .dataframe thead th {\n",
              "        text-align: right;\n",
              "    }\n",
              "</style>\n",
              "<table border=\"1\" class=\"dataframe\">\n",
              "  <thead>\n",
              "    <tr style=\"text-align: right;\">\n",
              "      <th></th>\n",
              "      <th>operation</th>\n",
              "      <th>property_type</th>\n",
              "      <th>place_with_parent_names</th>\n",
              "      <th>lat-lon</th>\n",
              "      <th>price</th>\n",
              "      <th>currency</th>\n",
              "      <th>price_aprox_local_currency</th>\n",
              "      <th>price_aprox_usd</th>\n",
              "      <th>surface_total_in_m2</th>\n",
              "      <th>surface_covered_in_m2</th>\n",
              "      <th>price_usd_per_m2</th>\n",
              "      <th>price_per_m2</th>\n",
              "      <th>floor</th>\n",
              "      <th>rooms</th>\n",
              "      <th>expenses</th>\n",
              "      <th>properati_url</th>\n",
              "    </tr>\n",
              "  </thead>\n",
              "  <tbody>\n",
              "    <tr>\n",
              "      <th>0</th>\n",
              "      <td>sell</td>\n",
              "      <td>apartment</td>\n",
              "      <td>|Argentina|Capital Federal|Villa Crespo|</td>\n",
              "      <td>-34.6047834183,-58.4586812499</td>\n",
              "      <td>180000.0</td>\n",
              "      <td>USD</td>\n",
              "      <td>2729232.00</td>\n",
              "      <td>180000.00</td>\n",
              "      <td>120.0</td>\n",
              "      <td>110.0</td>\n",
              "      <td>1500.000000</td>\n",
              "      <td>1636.363636</td>\n",
              "      <td>4.0</td>\n",
              "      <td>4.0</td>\n",
              "      <td>1700.0</td>\n",
              "      <td>http://villa-crespo.properati.com.ar/12egq_ven...</td>\n",
              "    </tr>\n",
              "    <tr>\n",
              "      <th>4</th>\n",
              "      <td>sell</td>\n",
              "      <td>apartment</td>\n",
              "      <td>|Argentina|Capital Federal|Chacarita|</td>\n",
              "      <td>-34.5846508988,-58.4546932614</td>\n",
              "      <td>129000.0</td>\n",
              "      <td>USD</td>\n",
              "      <td>1955949.60</td>\n",
              "      <td>129000.00</td>\n",
              "      <td>76.0</td>\n",
              "      <td>70.0</td>\n",
              "      <td>1697.368421</td>\n",
              "      <td>1842.857143</td>\n",
              "      <td>4.0</td>\n",
              "      <td>2.0</td>\n",
              "      <td>1700.0</td>\n",
              "      <td>http://chacarita.properati.com.ar/10qlv_venta_...</td>\n",
              "    </tr>\n",
              "    <tr>\n",
              "      <th>9</th>\n",
              "      <td>sell</td>\n",
              "      <td>apartment</td>\n",
              "      <td>|Argentina|Capital Federal|Villa Luro|</td>\n",
              "      <td>-34.6389789,-58.500115</td>\n",
              "      <td>87000.0</td>\n",
              "      <td>USD</td>\n",
              "      <td>1319128.80</td>\n",
              "      <td>87000.00</td>\n",
              "      <td>48.0</td>\n",
              "      <td>42.0</td>\n",
              "      <td>1812.500000</td>\n",
              "      <td>2071.428571</td>\n",
              "      <td>4.0</td>\n",
              "      <td>2.0</td>\n",
              "      <td>1700.0</td>\n",
              "      <td>http://villa-luro.properati.com.ar/12m82_venta...</td>\n",
              "    </tr>\n",
              "    <tr>\n",
              "      <th>11</th>\n",
              "      <td>sell</td>\n",
              "      <td>apartment</td>\n",
              "      <td>|Argentina|Capital Federal|Once|</td>\n",
              "      <td>-34.6050060697,-58.4001162302</td>\n",
              "      <td>60000.0</td>\n",
              "      <td>USD</td>\n",
              "      <td>909744.00</td>\n",
              "      <td>60000.00</td>\n",
              "      <td>28.0</td>\n",
              "      <td>28.0</td>\n",
              "      <td>2142.857143</td>\n",
              "      <td>2142.857143</td>\n",
              "      <td>4.0</td>\n",
              "      <td>1.0</td>\n",
              "      <td>1700.0</td>\n",
              "      <td>http://once.properati.com.ar/zz0q_venta_depart...</td>\n",
              "    </tr>\n",
              "    <tr>\n",
              "      <th>20</th>\n",
              "      <td>sell</td>\n",
              "      <td>apartment</td>\n",
              "      <td>|Argentina|Capital Federal|San Nicolás|</td>\n",
              "      <td>-34.603898,-58.378617</td>\n",
              "      <td>69000.0</td>\n",
              "      <td>USD</td>\n",
              "      <td>1046205.60</td>\n",
              "      <td>69000.00</td>\n",
              "      <td>55.0</td>\n",
              "      <td>22.0</td>\n",
              "      <td>2151.642336</td>\n",
              "      <td>3136.363636</td>\n",
              "      <td>23.0</td>\n",
              "      <td>2.0</td>\n",
              "      <td>1700.0</td>\n",
              "      <td>http://san-nicolas.properati.com.ar/rnju_venta...</td>\n",
              "    </tr>\n",
              "    <tr>\n",
              "      <th>...</th>\n",
              "      <td>...</td>\n",
              "      <td>...</td>\n",
              "      <td>...</td>\n",
              "      <td>...</td>\n",
              "      <td>...</td>\n",
              "      <td>...</td>\n",
              "      <td>...</td>\n",
              "      <td>...</td>\n",
              "      <td>...</td>\n",
              "      <td>...</td>\n",
              "      <td>...</td>\n",
              "      <td>...</td>\n",
              "      <td>...</td>\n",
              "      <td>...</td>\n",
              "      <td>...</td>\n",
              "      <td>...</td>\n",
              "    </tr>\n",
              "    <tr>\n",
              "      <th>8589</th>\n",
              "      <td>sell</td>\n",
              "      <td>apartment</td>\n",
              "      <td>|Argentina|Capital Federal|Barracas|</td>\n",
              "      <td>-34.631591,-58.370191</td>\n",
              "      <td>1118100.0</td>\n",
              "      <td>ARS</td>\n",
              "      <td>1114996.65</td>\n",
              "      <td>73536.95</td>\n",
              "      <td>49.0</td>\n",
              "      <td>42.0</td>\n",
              "      <td>1500.754082</td>\n",
              "      <td>26621.428570</td>\n",
              "      <td>3.0</td>\n",
              "      <td>1.0</td>\n",
              "      <td>1700.0</td>\n",
              "      <td>http://barracas.properati.com.ar/npf1_venta_de...</td>\n",
              "    </tr>\n",
              "    <tr>\n",
              "      <th>8590</th>\n",
              "      <td>sell</td>\n",
              "      <td>apartment</td>\n",
              "      <td>|Argentina|Capital Federal|Almagro|</td>\n",
              "      <td>-34.6045547,-58.4182063</td>\n",
              "      <td>119000.0</td>\n",
              "      <td>USD</td>\n",
              "      <td>1804325.60</td>\n",
              "      <td>119000.00</td>\n",
              "      <td>46.0</td>\n",
              "      <td>41.0</td>\n",
              "      <td>2586.956522</td>\n",
              "      <td>2902.439024</td>\n",
              "      <td>4.0</td>\n",
              "      <td>2.0</td>\n",
              "      <td>1700.0</td>\n",
              "      <td>http://almagro.properati.com.ar/ea4d_venta_dep...</td>\n",
              "    </tr>\n",
              "    <tr>\n",
              "      <th>8593</th>\n",
              "      <td>sell</td>\n",
              "      <td>apartment</td>\n",
              "      <td>|Argentina|Capital Federal|Barracas|</td>\n",
              "      <td>-34.6240024,-58.3905883</td>\n",
              "      <td>62000.0</td>\n",
              "      <td>USD</td>\n",
              "      <td>940068.80</td>\n",
              "      <td>62000.00</td>\n",
              "      <td>55.0</td>\n",
              "      <td>43.0</td>\n",
              "      <td>2151.642336</td>\n",
              "      <td>1441.860465</td>\n",
              "      <td>4.0</td>\n",
              "      <td>2.0</td>\n",
              "      <td>1700.0</td>\n",
              "      <td>http://barracas.properati.com.ar/oc61_venta_de...</td>\n",
              "    </tr>\n",
              "    <tr>\n",
              "      <th>8601</th>\n",
              "      <td>sell</td>\n",
              "      <td>apartment</td>\n",
              "      <td>|Argentina|Capital Federal|San Nicolás|</td>\n",
              "      <td>-34.601455,-58.378132</td>\n",
              "      <td>125000.0</td>\n",
              "      <td>USD</td>\n",
              "      <td>1895300.00</td>\n",
              "      <td>125000.00</td>\n",
              "      <td>55.0</td>\n",
              "      <td>70.0</td>\n",
              "      <td>2151.642336</td>\n",
              "      <td>1785.714286</td>\n",
              "      <td>2.0</td>\n",
              "      <td>3.0</td>\n",
              "      <td>1700.0</td>\n",
              "      <td>http://san-nicolas.properati.com.ar/1004t_vent...</td>\n",
              "    </tr>\n",
              "    <tr>\n",
              "      <th>8604</th>\n",
              "      <td>sell</td>\n",
              "      <td>apartment</td>\n",
              "      <td>|Argentina|Capital Federal|Boedo|</td>\n",
              "      <td>NaN</td>\n",
              "      <td>78000.0</td>\n",
              "      <td>USD</td>\n",
              "      <td>1182667.20</td>\n",
              "      <td>78000.00</td>\n",
              "      <td>52.0</td>\n",
              "      <td>52.0</td>\n",
              "      <td>1500.000000</td>\n",
              "      <td>1500.000000</td>\n",
              "      <td>4.0</td>\n",
              "      <td>2.0</td>\n",
              "      <td>1700.0</td>\n",
              "      <td>http://boedo.properati.com.ar/eh9b_venta_depar...</td>\n",
              "    </tr>\n",
              "  </tbody>\n",
              "</table>\n",
              "<p>1781 rows × 16 columns</p>\n",
              "</div>\n",
              "    <div class=\"colab-df-buttons\">\n",
              "\n",
              "  <div class=\"colab-df-container\">\n",
              "    <button class=\"colab-df-convert\" onclick=\"convertToInteractive('df-012d9fcb-1984-45a5-aebd-4952d9339f11')\"\n",
              "            title=\"Convert this dataframe to an interactive table.\"\n",
              "            style=\"display:none;\">\n",
              "\n",
              "  <svg xmlns=\"http://www.w3.org/2000/svg\" height=\"24px\" viewBox=\"0 -960 960 960\">\n",
              "    <path d=\"M120-120v-720h720v720H120Zm60-500h600v-160H180v160Zm220 220h160v-160H400v160Zm0 220h160v-160H400v160ZM180-400h160v-160H180v160Zm440 0h160v-160H620v160ZM180-180h160v-160H180v160Zm440 0h160v-160H620v160Z\"/>\n",
              "  </svg>\n",
              "    </button>\n",
              "\n",
              "  <style>\n",
              "    .colab-df-container {\n",
              "      display:flex;\n",
              "      gap: 12px;\n",
              "    }\n",
              "\n",
              "    .colab-df-convert {\n",
              "      background-color: #E8F0FE;\n",
              "      border: none;\n",
              "      border-radius: 50%;\n",
              "      cursor: pointer;\n",
              "      display: none;\n",
              "      fill: #1967D2;\n",
              "      height: 32px;\n",
              "      padding: 0 0 0 0;\n",
              "      width: 32px;\n",
              "    }\n",
              "\n",
              "    .colab-df-convert:hover {\n",
              "      background-color: #E2EBFA;\n",
              "      box-shadow: 0px 1px 2px rgba(60, 64, 67, 0.3), 0px 1px 3px 1px rgba(60, 64, 67, 0.15);\n",
              "      fill: #174EA6;\n",
              "    }\n",
              "\n",
              "    .colab-df-buttons div {\n",
              "      margin-bottom: 4px;\n",
              "    }\n",
              "\n",
              "    [theme=dark] .colab-df-convert {\n",
              "      background-color: #3B4455;\n",
              "      fill: #D2E3FC;\n",
              "    }\n",
              "\n",
              "    [theme=dark] .colab-df-convert:hover {\n",
              "      background-color: #434B5C;\n",
              "      box-shadow: 0px 1px 3px 1px rgba(0, 0, 0, 0.15);\n",
              "      filter: drop-shadow(0px 1px 2px rgba(0, 0, 0, 0.3));\n",
              "      fill: #FFFFFF;\n",
              "    }\n",
              "  </style>\n",
              "\n",
              "    <script>\n",
              "      const buttonEl =\n",
              "        document.querySelector('#df-012d9fcb-1984-45a5-aebd-4952d9339f11 button.colab-df-convert');\n",
              "      buttonEl.style.display =\n",
              "        google.colab.kernel.accessAllowed ? 'block' : 'none';\n",
              "\n",
              "      async function convertToInteractive(key) {\n",
              "        const element = document.querySelector('#df-012d9fcb-1984-45a5-aebd-4952d9339f11');\n",
              "        const dataTable =\n",
              "          await google.colab.kernel.invokeFunction('convertToInteractive',\n",
              "                                                    [key], {});\n",
              "        if (!dataTable) return;\n",
              "\n",
              "        const docLinkHtml = 'Like what you see? Visit the ' +\n",
              "          '<a target=\"_blank\" href=https://colab.research.google.com/notebooks/data_table.ipynb>data table notebook</a>'\n",
              "          + ' to learn more about interactive tables.';\n",
              "        element.innerHTML = '';\n",
              "        dataTable['output_type'] = 'display_data';\n",
              "        await google.colab.output.renderOutput(dataTable, element);\n",
              "        const docLink = document.createElement('div');\n",
              "        docLink.innerHTML = docLinkHtml;\n",
              "        element.appendChild(docLink);\n",
              "      }\n",
              "    </script>\n",
              "  </div>\n",
              "\n",
              "\n",
              "<div id=\"df-debe5fa7-9d81-4281-919f-5eba2abfe2ee\">\n",
              "  <button class=\"colab-df-quickchart\" onclick=\"quickchart('df-debe5fa7-9d81-4281-919f-5eba2abfe2ee')\"\n",
              "            title=\"Suggest charts\"\n",
              "            style=\"display:none;\">\n",
              "\n",
              "<svg xmlns=\"http://www.w3.org/2000/svg\" height=\"24px\"viewBox=\"0 0 24 24\"\n",
              "     width=\"24px\">\n",
              "    <g>\n",
              "        <path d=\"M19 3H5c-1.1 0-2 .9-2 2v14c0 1.1.9 2 2 2h14c1.1 0 2-.9 2-2V5c0-1.1-.9-2-2-2zM9 17H7v-7h2v7zm4 0h-2V7h2v10zm4 0h-2v-4h2v4z\"/>\n",
              "    </g>\n",
              "</svg>\n",
              "  </button>\n",
              "\n",
              "<style>\n",
              "  .colab-df-quickchart {\n",
              "      --bg-color: #E8F0FE;\n",
              "      --fill-color: #1967D2;\n",
              "      --hover-bg-color: #E2EBFA;\n",
              "      --hover-fill-color: #174EA6;\n",
              "      --disabled-fill-color: #AAA;\n",
              "      --disabled-bg-color: #DDD;\n",
              "  }\n",
              "\n",
              "  [theme=dark] .colab-df-quickchart {\n",
              "      --bg-color: #3B4455;\n",
              "      --fill-color: #D2E3FC;\n",
              "      --hover-bg-color: #434B5C;\n",
              "      --hover-fill-color: #FFFFFF;\n",
              "      --disabled-bg-color: #3B4455;\n",
              "      --disabled-fill-color: #666;\n",
              "  }\n",
              "\n",
              "  .colab-df-quickchart {\n",
              "    background-color: var(--bg-color);\n",
              "    border: none;\n",
              "    border-radius: 50%;\n",
              "    cursor: pointer;\n",
              "    display: none;\n",
              "    fill: var(--fill-color);\n",
              "    height: 32px;\n",
              "    padding: 0;\n",
              "    width: 32px;\n",
              "  }\n",
              "\n",
              "  .colab-df-quickchart:hover {\n",
              "    background-color: var(--hover-bg-color);\n",
              "    box-shadow: 0 1px 2px rgba(60, 64, 67, 0.3), 0 1px 3px 1px rgba(60, 64, 67, 0.15);\n",
              "    fill: var(--button-hover-fill-color);\n",
              "  }\n",
              "\n",
              "  .colab-df-quickchart-complete:disabled,\n",
              "  .colab-df-quickchart-complete:disabled:hover {\n",
              "    background-color: var(--disabled-bg-color);\n",
              "    fill: var(--disabled-fill-color);\n",
              "    box-shadow: none;\n",
              "  }\n",
              "\n",
              "  .colab-df-spinner {\n",
              "    border: 2px solid var(--fill-color);\n",
              "    border-color: transparent;\n",
              "    border-bottom-color: var(--fill-color);\n",
              "    animation:\n",
              "      spin 1s steps(1) infinite;\n",
              "  }\n",
              "\n",
              "  @keyframes spin {\n",
              "    0% {\n",
              "      border-color: transparent;\n",
              "      border-bottom-color: var(--fill-color);\n",
              "      border-left-color: var(--fill-color);\n",
              "    }\n",
              "    20% {\n",
              "      border-color: transparent;\n",
              "      border-left-color: var(--fill-color);\n",
              "      border-top-color: var(--fill-color);\n",
              "    }\n",
              "    30% {\n",
              "      border-color: transparent;\n",
              "      border-left-color: var(--fill-color);\n",
              "      border-top-color: var(--fill-color);\n",
              "      border-right-color: var(--fill-color);\n",
              "    }\n",
              "    40% {\n",
              "      border-color: transparent;\n",
              "      border-right-color: var(--fill-color);\n",
              "      border-top-color: var(--fill-color);\n",
              "    }\n",
              "    60% {\n",
              "      border-color: transparent;\n",
              "      border-right-color: var(--fill-color);\n",
              "    }\n",
              "    80% {\n",
              "      border-color: transparent;\n",
              "      border-right-color: var(--fill-color);\n",
              "      border-bottom-color: var(--fill-color);\n",
              "    }\n",
              "    90% {\n",
              "      border-color: transparent;\n",
              "      border-bottom-color: var(--fill-color);\n",
              "    }\n",
              "  }\n",
              "</style>\n",
              "\n",
              "  <script>\n",
              "    async function quickchart(key) {\n",
              "      const quickchartButtonEl =\n",
              "        document.querySelector('#' + key + ' button');\n",
              "      quickchartButtonEl.disabled = true;  // To prevent multiple clicks.\n",
              "      quickchartButtonEl.classList.add('colab-df-spinner');\n",
              "      try {\n",
              "        const charts = await google.colab.kernel.invokeFunction(\n",
              "            'suggestCharts', [key], {});\n",
              "      } catch (error) {\n",
              "        console.error('Error during call to suggestCharts:', error);\n",
              "      }\n",
              "      quickchartButtonEl.classList.remove('colab-df-spinner');\n",
              "      quickchartButtonEl.classList.add('colab-df-quickchart-complete');\n",
              "    }\n",
              "    (() => {\n",
              "      let quickchartButtonEl =\n",
              "        document.querySelector('#df-debe5fa7-9d81-4281-919f-5eba2abfe2ee button');\n",
              "      quickchartButtonEl.style.display =\n",
              "        google.colab.kernel.accessAllowed ? 'block' : 'none';\n",
              "    })();\n",
              "  </script>\n",
              "</div>\n",
              "\n",
              "  <div id=\"id_97df1d8a-ff23-41da-8399-a6979d13f5d2\">\n",
              "    <style>\n",
              "      .colab-df-generate {\n",
              "        background-color: #E8F0FE;\n",
              "        border: none;\n",
              "        border-radius: 50%;\n",
              "        cursor: pointer;\n",
              "        display: none;\n",
              "        fill: #1967D2;\n",
              "        height: 32px;\n",
              "        padding: 0 0 0 0;\n",
              "        width: 32px;\n",
              "      }\n",
              "\n",
              "      .colab-df-generate:hover {\n",
              "        background-color: #E2EBFA;\n",
              "        box-shadow: 0px 1px 2px rgba(60, 64, 67, 0.3), 0px 1px 3px 1px rgba(60, 64, 67, 0.15);\n",
              "        fill: #174EA6;\n",
              "      }\n",
              "\n",
              "      [theme=dark] .colab-df-generate {\n",
              "        background-color: #3B4455;\n",
              "        fill: #D2E3FC;\n",
              "      }\n",
              "\n",
              "      [theme=dark] .colab-df-generate:hover {\n",
              "        background-color: #434B5C;\n",
              "        box-shadow: 0px 1px 3px 1px rgba(0, 0, 0, 0.15);\n",
              "        filter: drop-shadow(0px 1px 2px rgba(0, 0, 0, 0.3));\n",
              "        fill: #FFFFFF;\n",
              "      }\n",
              "    </style>\n",
              "    <button class=\"colab-df-generate\" onclick=\"generateWithVariable('df')\"\n",
              "            title=\"Generate code using this dataframe.\"\n",
              "            style=\"display:none;\">\n",
              "\n",
              "  <svg xmlns=\"http://www.w3.org/2000/svg\" height=\"24px\"viewBox=\"0 0 24 24\"\n",
              "       width=\"24px\">\n",
              "    <path d=\"M7,19H8.4L18.45,9,17,7.55,7,17.6ZM5,21V16.75L18.45,3.32a2,2,0,0,1,2.83,0l1.4,1.43a1.91,1.91,0,0,1,.58,1.4,1.91,1.91,0,0,1-.58,1.4L9.25,21ZM18.45,9,17,7.55Zm-12,3A5.31,5.31,0,0,0,4.9,8.1,5.31,5.31,0,0,0,1,6.5,5.31,5.31,0,0,0,4.9,4.9,5.31,5.31,0,0,0,6.5,1,5.31,5.31,0,0,0,8.1,4.9,5.31,5.31,0,0,0,12,6.5,5.46,5.46,0,0,0,6.5,12Z\"/>\n",
              "  </svg>\n",
              "    </button>\n",
              "    <script>\n",
              "      (() => {\n",
              "      const buttonEl =\n",
              "        document.querySelector('#id_97df1d8a-ff23-41da-8399-a6979d13f5d2 button.colab-df-generate');\n",
              "      buttonEl.style.display =\n",
              "        google.colab.kernel.accessAllowed ? 'block' : 'none';\n",
              "\n",
              "      buttonEl.onclick = () => {\n",
              "        google.colab.notebook.generateWithVariable('df');\n",
              "      }\n",
              "      })();\n",
              "    </script>\n",
              "  </div>\n",
              "\n",
              "    </div>\n",
              "  </div>\n"
            ],
            "application/vnd.google.colaboratory.intrinsic+json": {
              "type": "dataframe",
              "variable_name": "df",
              "summary": "{\n  \"name\": \"df\",\n  \"rows\": 1781,\n  \"fields\": [\n    {\n      \"column\": \"operation\",\n      \"properties\": {\n        \"dtype\": \"category\",\n        \"num_unique_values\": 1,\n        \"samples\": [\n          \"sell\"\n        ],\n        \"semantic_type\": \"\",\n        \"description\": \"\"\n      }\n    },\n    {\n      \"column\": \"property_type\",\n      \"properties\": {\n        \"dtype\": \"category\",\n        \"num_unique_values\": 1,\n        \"samples\": [\n          \"apartment\"\n        ],\n        \"semantic_type\": \"\",\n        \"description\": \"\"\n      }\n    },\n    {\n      \"column\": \"place_with_parent_names\",\n      \"properties\": {\n        \"dtype\": \"category\",\n        \"num_unique_values\": 55,\n        \"samples\": [\n          \"|Argentina|Capital Federal|Villa Lugano|\"\n        ],\n        \"semantic_type\": \"\",\n        \"description\": \"\"\n      }\n    },\n    {\n      \"column\": \"lat-lon\",\n      \"properties\": {\n        \"dtype\": \"string\",\n        \"num_unique_values\": 1506,\n        \"samples\": [\n          \"-34.6308843338,-58.3733312047\"\n        ],\n        \"semantic_type\": \"\",\n        \"description\": \"\"\n      }\n    },\n    {\n      \"column\": \"price\",\n      \"properties\": {\n        \"dtype\": \"number\",\n        \"std\": 410018.91818780656,\n        \"min\": 0.0,\n        \"max\": 5487000.0,\n        \"num_unique_values\": 577,\n        \"samples\": [\n          72000.0\n        ],\n        \"semantic_type\": \"\",\n        \"description\": \"\"\n      }\n    },\n    {\n      \"column\": \"currency\",\n      \"properties\": {\n        \"dtype\": \"category\",\n        \"num_unique_values\": 2,\n        \"samples\": [\n          \"ARS\"\n        ],\n        \"semantic_type\": \"\",\n        \"description\": \"\"\n      }\n    },\n    {\n      \"column\": \"price_aprox_local_currency\",\n      \"properties\": {\n        \"dtype\": \"number\",\n        \"std\": 1141709.8961778895,\n        \"min\": 0.0,\n        \"max\": 6034635.2,\n        \"num_unique_values\": 578,\n        \"samples\": [\n          1205410.8\n        ],\n        \"semantic_type\": \"\",\n        \"description\": \"\"\n      }\n    },\n    {\n      \"column\": \"price_aprox_usd\",\n      \"properties\": {\n        \"dtype\": \"number\",\n        \"std\": 75298.75850619271,\n        \"min\": 0.0,\n        \"max\": 398000.0,\n        \"num_unique_values\": 578,\n        \"samples\": [\n          79500.0\n        ],\n        \"semantic_type\": \"\",\n        \"description\": \"\"\n      }\n    },\n    {\n      \"column\": \"surface_total_in_m2\",\n      \"properties\": {\n        \"dtype\": \"number\",\n        \"std\": 1468.8115934497976,\n        \"min\": 0.0,\n        \"max\": 62034.0,\n        \"num_unique_values\": 155,\n        \"samples\": [\n          89.0\n        ],\n        \"semantic_type\": \"\",\n        \"description\": \"\"\n      }\n    },\n    {\n      \"column\": \"surface_covered_in_m2\",\n      \"properties\": {\n        \"dtype\": \"number\",\n        \"std\": 1533.0576103500907,\n        \"min\": 0.0,\n        \"max\": 62034.0,\n        \"num_unique_values\": 152,\n        \"samples\": [\n          75.0\n        ],\n        \"semantic_type\": \"\",\n        \"description\": \"\"\n      }\n    },\n    {\n      \"column\": \"price_usd_per_m2\",\n      \"properties\": {\n        \"dtype\": \"number\",\n        \"std\": 534.4601394083526,\n        \"min\": 0.0,\n        \"max\": 5975.609756,\n        \"num_unique_values\": 924,\n        \"samples\": [\n          3045.454545\n        ],\n        \"semantic_type\": \"\",\n        \"description\": \"\"\n      }\n    },\n    {\n      \"column\": \"price_per_m2\",\n      \"properties\": {\n        \"dtype\": \"number\",\n        \"std\": 8126.9408104711065,\n        \"min\": 2.224586517,\n        \"max\": 57156.25,\n        \"num_unique_values\": 1203,\n        \"samples\": [\n          2175.0\n        ],\n        \"semantic_type\": \"\",\n        \"description\": \"\"\n      }\n    },\n    {\n      \"column\": \"floor\",\n      \"properties\": {\n        \"dtype\": \"number\",\n        \"std\": 23.4363212611584,\n        \"min\": 1.0,\n        \"max\": 616.0,\n        \"num_unique_values\": 34,\n        \"samples\": [\n          13.0\n        ],\n        \"semantic_type\": \"\",\n        \"description\": \"\"\n      }\n    },\n    {\n      \"column\": \"rooms\",\n      \"properties\": {\n        \"dtype\": \"number\",\n        \"std\": 0.9565024547353462,\n        \"min\": 1.0,\n        \"max\": 6.0,\n        \"num_unique_values\": 6,\n        \"samples\": [\n          4.0\n        ],\n        \"semantic_type\": \"\",\n        \"description\": \"\"\n      }\n    },\n    {\n      \"column\": \"expenses\",\n      \"properties\": {\n        \"dtype\": \"number\",\n        \"std\": 765.158336411705,\n        \"min\": 1.0,\n        \"max\": 7456.0,\n        \"num_unique_values\": 146,\n        \"samples\": [\n          800.0\n        ],\n        \"semantic_type\": \"\",\n        \"description\": \"\"\n      }\n    },\n    {\n      \"column\": \"properati_url\",\n      \"properties\": {\n        \"dtype\": \"string\",\n        \"num_unique_values\": 1781,\n        \"samples\": [\n          \"http://palermo.properati.com.ar/10twa_venta_departamentos_palermo_re-max-plaza\"\n        ],\n        \"semantic_type\": \"\",\n        \"description\": \"\"\n      }\n    }\n  ]\n}"
            }
          },
          "metadata": {},
          "execution_count": 6
        }
      ]
    },
    {
      "cell_type": "markdown",
      "source": [
        "## Explore the dataset"
      ],
      "metadata": {
        "id": "4XX_puhaWsPm"
      }
    },
    {
      "cell_type": "code",
      "source": [
        "plt.hist(df[\"surface_covered_in_m2\"])\n",
        "plt.xlabel(\"Area [sq meters]\")\n",
        "plt.title(\"Distribution of Apartment Sizes\");"
      ],
      "metadata": {
        "execution": {
          "iopub.status.busy": "2022-08-22T04:59:12.166738Z",
          "iopub.execute_input": "2022-08-22T04:59:12.167475Z",
          "iopub.status.idle": "2022-08-22T04:59:12.372902Z",
          "shell.execute_reply.started": "2022-08-22T04:59:12.16742Z",
          "shell.execute_reply": "2022-08-22T04:59:12.371598Z"
        },
        "trusted": true,
        "id": "9iWiDnjAWsPq",
        "colab": {
          "base_uri": "https://localhost:8080/",
          "height": 472
        },
        "outputId": "5f34f3b2-61bd-4c35-dd1e-dbadeffeb69b"
      },
      "execution_count": null,
      "outputs": [
        {
          "output_type": "display_data",
          "data": {
            "text/plain": [
              "<Figure size 640x480 with 1 Axes>"
            ],
            "image/png": "[encoded data removed]"
          },
          "metadata": {}
        }
      ]
    },
    {
      "cell_type": "markdown",
      "source": [
        "Its looks like the dataset contains some outliers, so let's take the summery statistics for the \"surface_covered_in_m2\" feature"
      ],
      "metadata": {
        "id": "6Ow0MDXHWsPs"
      }
    },
    {
      "cell_type": "code",
      "source": [
        "df.describe()[\"surface_covered_in_m2\"]"
      ],
      "metadata": {
        "execution": {
          "iopub.status.busy": "2022-08-22T04:23:37.376345Z",
          "iopub.execute_input": "2022-08-22T04:23:37.376793Z",
          "iopub.status.idle": "2022-08-22T04:23:37.424697Z",
          "shell.execute_reply.started": "2022-08-22T04:23:37.376755Z",
          "shell.execute_reply": "2022-08-22T04:23:37.423231Z"
        },
        "trusted": true,
        "id": "U53Ze_43WsPt",
        "colab": {
          "base_uri": "https://localhost:8080/"
        },
        "outputId": "5d5dc69f-36db-4f7c-8e2e-9f94cf40dc22"
      },
      "execution_count": null,
      "outputs": [
        {
          "output_type": "execute_result",
          "data": {
            "text/plain": [
              "count     1635.000000\n",
              "mean        97.877064\n",
              "std       1533.057610\n",
              "min          0.000000\n",
              "25%         38.000000\n",
              "50%         50.000000\n",
              "75%         73.000000\n",
              "max      62034.000000\n",
              "Name: surface_covered_in_m2, dtype: float64"
            ]
          },
          "metadata": {},
          "execution_count": 8
        }
      ]
    },
    {
      "cell_type": "markdown",
      "source": [
        "The statistics above confirm what we suspected. While most of the apartments in our dataset are smaller that 73 square meters, there are some that are several thousand square meters. The best thing to do is to change our wrangle function and remove them from the dataset."
      ],
      "metadata": {
        "id": "dZq6_YB8WsPu"
      }
    },
    {
      "cell_type": "markdown",
      "source": [
        "So change the wrangle function so that it removes the outliers in the \"surface_covered_in_m2\" column"
      ],
      "metadata": {
        "execution": {
          "iopub.status.busy": "2022-08-22T05:16:07.123783Z",
          "iopub.execute_input": "2022-08-22T05:16:07.124169Z",
          "iopub.status.idle": "2022-08-22T05:16:07.161809Z",
          "shell.execute_reply.started": "2022-08-22T05:16:07.124136Z",
          "shell.execute_reply": "2022-08-22T05:16:07.160637Z"
        },
        "id": "_UHLXwk0WsPu"
      }
    },
    {
      "cell_type": "code",
      "source": [
        "def wrangle(filepath):\n",
        "    # Read csv file to df\n",
        "    df = pd.read_csv(filepath)\n",
        "\n",
        "    # subset to properties in \"Capital Federal\"\n",
        "    mask_ba = df[\"place_with_parent_names\"].str.contains(\"Capital Federal\")\n",
        "    # subset to \"appartments\"\n",
        "    mask_apt = df[\"property_type\"] == \"apartment\"\n",
        "    # subset to price < 400,000 USD\n",
        "    mask_price = df[\"price_aprox_usd\"]<400_000\n",
        "    # subset\n",
        "    df = df[mask_ba & mask_apt & mask_price]\n",
        "\n",
        "    # Removing outliers by \"surface_covered_in_m2\"\n",
        "    low, high = df[\"surface_covered_in_m2\"].quantile([0.1, 0.9])\n",
        "    mask_area = df[\"surface_covered_in_m2\"].between(low, high)\n",
        "    df = df[mask_area]\n",
        "\n",
        "    return df"
      ],
      "metadata": {
        "execution": {
          "iopub.status.busy": "2022-08-22T05:32:31.904573Z",
          "iopub.execute_input": "2022-08-22T05:32:31.905003Z",
          "iopub.status.idle": "2022-08-22T05:32:31.912795Z",
          "shell.execute_reply.started": "2022-08-22T05:32:31.904967Z",
          "shell.execute_reply": "2022-08-22T05:32:31.91161Z"
        },
        "trusted": true,
        "id": "CPezS5ScWsPv"
      },
      "execution_count": null,
      "outputs": []
    },
    {
      "cell_type": "code",
      "source": [
        "df = wrangle(\"/content/buenos-aires-real-estate-1.csv\")\n",
        "df.describe()[\"surface_covered_in_m2\"]"
      ],
      "metadata": {
        "execution": {
          "iopub.status.busy": "2022-08-22T05:33:39.81373Z",
          "iopub.execute_input": "2022-08-22T05:33:39.814139Z",
          "iopub.status.idle": "2022-08-22T05:33:39.89933Z",
          "shell.execute_reply.started": "2022-08-22T05:33:39.814104Z",
          "shell.execute_reply": "2022-08-22T05:33:39.898163Z"
        },
        "trusted": true,
        "id": "799yN6ysWsPw",
        "colab": {
          "base_uri": "https://localhost:8080/"
        },
        "outputId": "e4d63e39-a32f-4d2c-cb03-b2bccadf6ecd"
      },
      "execution_count": null,
      "outputs": [
        {
          "output_type": "execute_result",
          "data": {
            "text/plain": [
              "count    1343.000000\n",
              "mean       55.076694\n",
              "std        18.160427\n",
              "min        31.000000\n",
              "25%        40.000000\n",
              "50%        50.000000\n",
              "75%        68.500000\n",
              "max       100.000000\n",
              "Name: surface_covered_in_m2, dtype: float64"
            ]
          },
          "metadata": {},
          "execution_count": 10
        }
      ]
    },
    {
      "cell_type": "markdown",
      "source": [
        "So we removed the outliers."
      ],
      "metadata": {
        "id": "w9XLaRVWWsPx"
      }
    },
    {
      "cell_type": "markdown",
      "source": [
        "**Next we create a scatter plot by Price vs Area**"
      ],
      "metadata": {
        "id": "X0hwoMR1WsPy"
      }
    },
    {
      "cell_type": "code",
      "source": [
        "plt.scatter(x=df[\"surface_covered_in_m2\"], y=df[\"price_aprox_usd\"])\n",
        "plt.xlabel(\"Area [sq meters]\")\n",
        "plt.ylabel(\"Price [USD]\")\n",
        "plt.title(\"Buenos Aires: Price vs Area\");"
      ],
      "metadata": {
        "execution": {
          "iopub.status.busy": "2022-08-22T05:37:50.45928Z",
          "iopub.execute_input": "2022-08-22T05:37:50.459716Z",
          "iopub.status.idle": "2022-08-22T05:37:50.681298Z",
          "shell.execute_reply.started": "2022-08-22T05:37:50.459679Z",
          "shell.execute_reply": "2022-08-22T05:37:50.679916Z"
        },
        "trusted": true,
        "id": "iaj97Pt_WsPy",
        "colab": {
          "base_uri": "https://localhost:8080/",
          "height": 472
        },
        "outputId": "717e048d-9566-472b-e842-10aecdd1323a"
      },
      "execution_count": null,
      "outputs": [
        {
          "output_type": "display_data",
          "data": {
            "text/plain": [
              "<Figure size 640x480 with 1 Axes>"
            ],
            "image/png": "[encoded data removed]"
          },
          "metadata": {}
        }
      ]
    },
    {
      "cell_type": "markdown",
      "source": [
        "This shows that there is a positive correlation between apartment price and size. So predicting the price of aparments, size will be good featue."
      ],
      "metadata": {
        "id": "k5hNfOfUWsPy"
      }
    },
    {
      "cell_type": "markdown",
      "source": [
        "## Split\n",
        "\n",
        "Splitting the dataset into **target** and **features** dataset"
      ],
      "metadata": {
        "id": "PaZDv70LWsPz"
      }
    },
    {
      "cell_type": "code",
      "source": [
        "features = [\"surface_covered_in_m2\"]\n",
        "X = df[features]\n",
        "target = \"price_aprox_usd\"\n",
        "y = df[target]"
      ],
      "metadata": {
        "execution": {
          "iopub.status.busy": "2022-08-22T06:03:31.519383Z",
          "iopub.execute_input": "2022-08-22T06:03:31.519817Z",
          "iopub.status.idle": "2022-08-22T06:03:31.527088Z",
          "shell.execute_reply.started": "2022-08-22T06:03:31.519778Z",
          "shell.execute_reply": "2022-08-22T06:03:31.525663Z"
        },
        "trusted": true,
        "id": "NEe-gQEAWsP0"
      },
      "execution_count": null,
      "outputs": []
    },
    {
      "cell_type": "markdown",
      "source": [
        "Spltting the into training set and validation set"
      ],
      "metadata": {
        "id": "9Ag0aB_qWsP0"
      }
    },
    {
      "cell_type": "code",
      "source": [
        "X_train, X_val, y_train, y_val = train_test_split(X, y, random_state = 0)"
      ],
      "metadata": {
        "execution": {
          "iopub.status.busy": "2022-08-22T06:05:22.383569Z",
          "iopub.execute_input": "2022-08-22T06:05:22.384219Z",
          "iopub.status.idle": "2022-08-22T06:05:22.39227Z",
          "shell.execute_reply.started": "2022-08-22T06:05:22.384181Z",
          "shell.execute_reply": "2022-08-22T06:05:22.390919Z"
        },
        "trusted": true,
        "id": "K1QYor-7WsP0"
      },
      "execution_count": null,
      "outputs": []
    },
    {
      "cell_type": "markdown",
      "source": [
        "# Build the model\n",
        "\n",
        "### Baseline model"
      ],
      "metadata": {
        "id": "npA1MBAwWsP1"
      }
    },
    {
      "cell_type": "code",
      "source": [
        "y_mean = y_train.mean()\n",
        "y_mean"
      ],
      "metadata": {
        "execution": {
          "iopub.status.busy": "2022-08-22T06:05:24.718266Z",
          "iopub.execute_input": "2022-08-22T06:05:24.718688Z",
          "iopub.status.idle": "2022-08-22T06:05:24.7271Z",
          "shell.execute_reply.started": "2022-08-22T06:05:24.718648Z",
          "shell.execute_reply": "2022-08-22T06:05:24.725849Z"
        },
        "trusted": true,
        "id": "aYiuYQKCWsP1",
        "colab": {
          "base_uri": "https://localhost:8080/"
        },
        "outputId": "05d6f984-84ff-47c8-d9fc-f3bb9378af70"
      },
      "execution_count": null,
      "outputs": [
        {
          "output_type": "execute_result",
          "data": {
            "text/plain": [
              "135631.64528301888"
            ]
          },
          "metadata": {},
          "execution_count": 14
        }
      ]
    },
    {
      "cell_type": "markdown",
      "source": [
        "This is our baseline model prediction"
      ],
      "metadata": {
        "id": "3FmI-6FRWsP1"
      }
    },
    {
      "cell_type": "code",
      "source": [
        "y_pred_baseline = [y_mean] * len(y_train)\n",
        "mae_baseline = mean_absolute_error(y_train, y_pred_baseline)\n",
        "\n",
        "print(\"Mean apt price:\", round(y_mean, 2))\n",
        "print(\"Baseline MAE:\", round(mae_baseline, 2))"
      ],
      "metadata": {
        "execution": {
          "iopub.status.busy": "2022-08-22T06:05:45.924802Z",
          "iopub.execute_input": "2022-08-22T06:05:45.925194Z",
          "iopub.status.idle": "2022-08-22T06:05:45.933671Z",
          "shell.execute_reply.started": "2022-08-22T06:05:45.925163Z",
          "shell.execute_reply": "2022-08-22T06:05:45.932628Z"
        },
        "trusted": true,
        "id": "S535KcovWsP2",
        "colab": {
          "base_uri": "https://localhost:8080/"
        },
        "outputId": "227f4f25-cfdb-4cc7-9015-572c07c7c2a4"
      },
      "execution_count": null,
      "outputs": [
        {
          "output_type": "stream",
          "name": "stdout",
          "text": [
            "Mean apt price: 135631.65\n",
            "Baseline MAE: 45591.41\n"
          ]
        }
      ]
    },
    {
      "cell_type": "markdown",
      "source": [
        "Above shows the mean apartment price as the baseline prediction and the MAE of of the baseline model, so we have to ensure that our model should perform well than baseline model."
      ],
      "metadata": {
        "id": "IRsmpcqcWsP2"
      }
    },
    {
      "cell_type": "markdown",
      "source": [
        "### Building the linear model"
      ],
      "metadata": {
        "id": "E8yGyFvgWsP2"
      }
    },
    {
      "cell_type": "code",
      "source": [
        "model = LinearRegression()\n",
        "model.fit(X_train, y_train)"
      ],
      "metadata": {
        "execution": {
          "iopub.status.busy": "2022-08-22T05:57:36.594983Z",
          "iopub.execute_input": "2022-08-22T05:57:36.59549Z",
          "iopub.status.idle": "2022-08-22T05:57:36.618187Z",
          "shell.execute_reply.started": "2022-08-22T05:57:36.595453Z",
          "shell.execute_reply": "2022-08-22T05:57:36.61688Z"
        },
        "trusted": true,
        "id": "g0wO_sgiWsP3",
        "colab": {
          "base_uri": "https://localhost:8080/",
          "height": 74
        },
        "outputId": "dbc56824-a565-40d4-95ad-256eba1c32a2"
      },
      "execution_count": null,
      "outputs": [
        {
          "output_type": "execute_result",
          "data": {
            "text/plain": [
              "LinearRegression()"
            ],
            "text/html": [
              "<style>#sk-container-id-1 {color: black;background-color: white;}#sk-container-id-1 pre{padding: 0;}#sk-container-id-1 div.sk-toggleable {background-color: white;}#sk-container-id-1 label.sk-toggleable__label {cursor: pointer;display: block;width: 100%;margin-bottom: 0;padding: 0.3em;box-sizing: border-box;text-align: center;}#sk-container-id-1 label.sk-toggleable__label-arrow:before {content: \"▸\";float: left;margin-right: 0.25em;color: #696969;}#sk-container-id-1 label.sk-toggleable__label-arrow:hover:before {color: black;}#sk-container-id-1 div.sk-estimator:hover label.sk-toggleable__label-arrow:before {color: black;}#sk-container-id-1 div.sk-toggleable__content {max-height: 0;max-width: 0;overflow: hidden;text-align: left;background-color: #f0f8ff;}#sk-container-id-1 div.sk-toggleable__content pre {margin: 0.2em;color: black;border-radius: 0.25em;background-color: #f0f8ff;}#sk-container-id-1 input.sk-toggleable__control:checked~div.sk-toggleable__content {max-height: 200px;max-width: 100%;overflow: auto;}#sk-container-id-1 input.sk-toggleable__control:checked~label.sk-toggleable__label-arrow:before {content: \"▾\";}#sk-container-id-1 div.sk-estimator input.sk-toggleable__control:checked~label.sk-toggleable__label {background-color: #d4ebff;}#sk-container-id-1 div.sk-label input.sk-toggleable__control:checked~label.sk-toggleable__label {background-color: #d4ebff;}#sk-container-id-1 input.sk-hidden--visually {border: 0;clip: rect(1px 1px 1px 1px);clip: rect(1px, 1px, 1px, 1px);height: 1px;margin: -1px;overflow: hidden;padding: 0;position: absolute;width: 1px;}#sk-container-id-1 div.sk-estimator {font-family: monospace;background-color: #f0f8ff;border: 1px dotted black;border-radius: 0.25em;box-sizing: border-box;margin-bottom: 0.5em;}#sk-container-id-1 div.sk-estimator:hover {background-color: #d4ebff;}#sk-container-id-1 div.sk-parallel-item::after {content: \"\";width: 100%;border-bottom: 1px solid gray;flex-grow: 1;}#sk-container-id-1 div.sk-label:hover label.sk-toggleable__label {background-color: #d4ebff;}#sk-container-id-1 div.sk-serial::before {content: \"\";position: absolute;border-left: 1px solid gray;box-sizing: border-box;top: 0;bottom: 0;left: 50%;z-index: 0;}#sk-container-id-1 div.sk-serial {display: flex;flex-direction: column;align-items: center;background-color: white;padding-right: 0.2em;padding-left: 0.2em;position: relative;}#sk-container-id-1 div.sk-item {position: relative;z-index: 1;}#sk-container-id-1 div.sk-parallel {display: flex;align-items: stretch;justify-content: center;background-color: white;position: relative;}#sk-container-id-1 div.sk-item::before, #sk-container-id-1 div.sk-parallel-item::before {content: \"\";position: absolute;border-left: 1px solid gray;box-sizing: border-box;top: 0;bottom: 0;left: 50%;z-index: -1;}#sk-container-id-1 div.sk-parallel-item {display: flex;flex-direction: column;z-index: 1;position: relative;background-color: white;}#sk-container-id-1 div.sk-parallel-item:first-child::after {align-self: flex-end;width: 50%;}#sk-container-id-1 div.sk-parallel-item:last-child::after {align-self: flex-start;width: 50%;}#sk-container-id-1 div.sk-parallel-item:only-child::after {width: 0;}#sk-container-id-1 div.sk-dashed-wrapped {border: 1px dashed gray;margin: 0 0.4em 0.5em 0.4em;box-sizing: border-box;padding-bottom: 0.4em;background-color: white;}#sk-container-id-1 div.sk-label label {font-family: monospace;font-weight: bold;display: inline-block;line-height: 1.2em;}#sk-container-id-1 div.sk-label-container {text-align: center;}#sk-container-id-1 div.sk-container {/* jupyter's `normalize.less` sets `[hidden] { display: none; }` but bootstrap.min.css set `[hidden] { display: none !important; }` so we also need the `!important` here to be able to override the default hidden behavior on the sphinx rendered scikit-learn.org. See: https://github.com/scikit-learn/scikit-learn/issues/21755 */display: inline-block !important;position: relative;}#sk-container-id-1 div.sk-text-repr-fallback {display: none;}</style><div id=\"sk-container-id-1\" class=\"sk-top-container\"><div class=\"sk-text-repr-fallback\"><pre>LinearRegression()</pre><b>In a Jupyter environment, please rerun this cell to show the HTML representation or trust the notebook. <br />On GitHub, the HTML representation is unable to render, please try loading this page with nbviewer.org.</b></div><div class=\"sk-container\" hidden><div class=\"sk-item\"><div class=\"sk-estimator sk-toggleable\"><input class=\"sk-toggleable__control sk-hidden--visually\" id=\"sk-estimator-id-1\" type=\"checkbox\" checked><label for=\"sk-estimator-id-1\" class=\"sk-toggleable__label sk-toggleable__label-arrow\">LinearRegression</label><div class=\"sk-toggleable__content\"><pre>LinearRegression()</pre></div></div></div></div></div>"
            ]
          },
          "metadata": {},
          "execution_count": 16
        }
      ]
    },
    {
      "cell_type": "code",
      "source": [
        "y_pred = model.predict(X_val)"
      ],
      "metadata": {
        "execution": {
          "iopub.status.busy": "2022-08-22T06:07:27.059073Z",
          "iopub.execute_input": "2022-08-22T06:07:27.05945Z",
          "iopub.status.idle": "2022-08-22T06:07:27.06713Z",
          "shell.execute_reply.started": "2022-08-22T06:07:27.059419Z",
          "shell.execute_reply": "2022-08-22T06:07:27.065667Z"
        },
        "trusted": true,
        "id": "CPMgOfq3WsP3"
      },
      "execution_count": null,
      "outputs": []
    },
    {
      "cell_type": "code",
      "source": [
        "mean_absolute_error(y_val, y_pred)"
      ],
      "metadata": {
        "execution": {
          "iopub.status.busy": "2022-08-22T06:08:18.653779Z",
          "iopub.execute_input": "2022-08-22T06:08:18.654186Z",
          "iopub.status.idle": "2022-08-22T06:08:18.662663Z",
          "shell.execute_reply.started": "2022-08-22T06:08:18.654152Z",
          "shell.execute_reply": "2022-08-22T06:08:18.661428Z"
        },
        "trusted": true,
        "id": "C_MQ1sYoWsP4",
        "colab": {
          "base_uri": "https://localhost:8080/"
        },
        "outputId": "8f221d98-4f89-429d-b098-aa630bb9e307"
      },
      "execution_count": null,
      "outputs": [
        {
          "output_type": "execute_result",
          "data": {
            "text/plain": [
              "30597.638698440216"
            ]
          },
          "metadata": {},
          "execution_count": 18
        }
      ]
    },
    {
      "cell_type": "markdown",
      "source": [
        "So its less than the MAE of baseline model, so it performs well."
      ],
      "metadata": {
        "id": "V_zfjJF-WsP4"
      }
    },
    {
      "cell_type": "code",
      "source": [
        "# Instantiate SimpleImputer with mean strategy\n",
        "imputer = SimpleImputer(strategy='mean')\n",
        "\n",
        "X_test = pd.read_csv(r\"/content/buenos-aires-real-estate-1.csv\")[features]\n",
        "\n",
        "# Fit and transform the imputer on X_test\n",
        "X_test_imputed = imputer.fit_transform(X_test)\n",
        "\n",
        "# Make predictions on imputed test data\n",
        "y_pred_test = pd.Series(model.predict(X_test_imputed))\n",
        "\n",
        "y_pred_test.head()"
      ],
      "metadata": {
        "id": "0C8MWRbrObO3",
        "colab": {
          "base_uri": "https://localhost:8080/"
        },
        "outputId": "81f31eb0-7494-4b57-c1ab-191290e1b40e"
      },
      "execution_count": null,
      "outputs": [
        {
          "output_type": "stream",
          "name": "stderr",
          "text": [
            "/usr/local/lib/python3.10/dist-packages/sklearn/base.py:439: UserWarning: X does not have valid feature names, but LinearRegression was fitted with feature names\n",
            "  warnings.warn(\n"
          ]
        },
        {
          "output_type": "execute_result",
          "data": {
            "text/plain": [
              "0    260364.308200\n",
              "1    282885.203894\n",
              "2    508094.160840\n",
              "3    316666.547436\n",
              "4    170280.725422\n",
              "dtype: float64"
            ]
          },
          "metadata": {},
          "execution_count": 19
        }
      ]
    },
    {
      "cell_type": "markdown",
      "source": [
        "#### This is the prediction of our model on the testing dataset"
      ],
      "metadata": {
        "id": "l0oYrlPWWsP5"
      }
    },
    {
      "cell_type": "markdown",
      "source": [
        "## Communicating the results"
      ],
      "metadata": {
        "id": "kw8wjaeYWsP6"
      }
    },
    {
      "cell_type": "code",
      "source": [
        "plt.plot(X_train, model.predict(X_train), color = \"r\", label = \"Linear Model\")\n",
        "plt.scatter(X_train, y_train)\n",
        "plt.xlabel(\"surface covered [sq meters]\")\n",
        "plt.ylabel(\"price [usd]\")\n",
        "plt.legend();"
      ],
      "metadata": {
        "execution": {
          "iopub.status.busy": "2022-08-22T06:14:23.849513Z",
          "iopub.execute_input": "2022-08-22T06:14:23.849928Z",
          "iopub.status.idle": "2022-08-22T06:14:24.095919Z",
          "shell.execute_reply.started": "2022-08-22T06:14:23.849894Z",
          "shell.execute_reply": "2022-08-22T06:14:24.094106Z"
        },
        "trusted": true,
        "id": "akkycrUsWsQI",
        "colab": {
          "base_uri": "https://localhost:8080/",
          "height": 449
        },
        "outputId": "d5f8dcda-c451-430f-b406-9f94bea8b87b"
      },
      "execution_count": null,
      "outputs": [
        {
          "output_type": "display_data",
          "data": {
            "text/plain": [
              "<Figure size 640x480 with 1 Axes>"
            ],
            "image/png": "[encoded data removed]"
          },
          "metadata": {}
        }
      ]
    },
    {
      "cell_type": "markdown",
      "source": [
        "This is how our model genaralize the data patterns"
      ],
      "metadata": {
        "id": "E0VLhuKRWsQI"
      }
    },
    {
      "cell_type": "code",
      "source": [],
      "metadata": {
        "id": "hnlbfh0DVtIk"
      },
      "execution_count": null,
      "outputs": []
    }
  ]
}